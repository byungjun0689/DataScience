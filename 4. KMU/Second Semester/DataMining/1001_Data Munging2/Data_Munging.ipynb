{
 "cells": [
  {
   "cell_type": "markdown",
   "metadata": {},
   "source": [
    "# Types of Data Munging\n",
    "<img src=\"./photo/1.PNG\", width=700>"
   ]
  },
  {
   "cell_type": "markdown",
   "metadata": {},
   "source": [
    "# Data Mungingwith R(2)\n",
    "# 데이터마이닝을 위한 데이터 - Customer Signature\n",
    "<img src=\"./photo/2.PNG\">"
   ]
  },
  {
   "cell_type": "markdown",
   "metadata": {},
   "source": [
    "# 파생변수를 생성하는 일반적인 방법\n",
    " - 한 값으로부터 특징들을 추출한다.\n",
    "  - 날짜로부터 요일을 계산\n",
    "  - 신용카드 번호로부터 신용카드 발급자를 추출\n",
    " - 한 레코드 내의 값들을 결합한다.\n",
    "  - 멤버십 가입일과 첫 구매일로부터 경과를 계산\n",
    " - 다른 테이블의 부가적인 정보를 참조한다.\n",
    "  - 우편번호에 따른 인구와 평균가계수입\n",
    "  - 상품코드에 대한 계층구조\n",
    " - 다수 필드 내에 시간 종속적인 데이터를 pivoting한다.\n",
    "  - 월마다 한 행씩 저장되는 과금 데이터를 각각의 월에 대응하는 필드로 변환\n",
    " - 거래 레코드들을 요약한다.\n",
    "  - 년간 총 구매액\n",
    " - Customer Signature 필드들을 요약한다.\n",
    "  - 값의 표준화 및 서열화"
   ]
  },
  {
   "cell_type": "markdown",
   "metadata": {},
   "source": [
    "# H백화점 데이터 (1/2)\n",
    "<img src=\"././photo/3.PNG\" width = 800>\n",
    "<br>\n",
    "<img src=\"././photo/4.PNG\" width = 800>"
   ]
  },
  {
   "cell_type": "markdown",
   "metadata": {},
   "source": [
    "# H백화점데이터로부터파생가능한변수\n",
    "- 환불행태 \n",
    "- 구매상품다양성\n",
    "- 내점일수 & 내점당구매건수\n",
    "- 구매주기\n",
    "- 요일별구매패턴\n",
    "- 연령대\n",
    "- 기간별구매금액 & 횟수 \n",
    "<font color='red'>\n",
    "- 구매추세패턴  \n",
    "- 가격선호도<br>\n",
    "- 시즌선호도 <br>\n",
    "- 상품별구매금액/횟수/여부 <br>\n",
    "- 상품별구매순서 <br>\n",
    "- 주구매상품 <br>\n",
    "- 휴면/이탈여부</font><br>"
   ]
  },
  {
   "cell_type": "markdown",
   "metadata": {},
   "source": [
    "## 파생변수 - 환불형태\n",
    "### 1. H백화점 고객의 환불형태(금액,건수)에 대한 변수 생성.\n",
    " \n",
    "<img src=\"././photo/5.PNG\"  align=\"left\">"
   ]
  },
  {
   "cell_type": "code",
   "execution_count": 1,
   "metadata": {},
   "outputs": [
    {
     "name": "stderr",
     "output_type": "stream",
     "text": [
      "Installing package into 'C:/Users/byung/Documents/R/win-library/3.3'\n",
      "(as 'lib' is unspecified)\n"
     ]
    },
    {
     "name": "stdout",
     "output_type": "stream",
     "text": [
      "package 'lubridate' successfully unpacked and MD5 sums checked\n",
      "\n",
      "The downloaded binary packages are in\n",
      "\tC:\\Users\\byung\\AppData\\Local\\Temp\\Rtmpa00xqk\\downloaded_packages\n"
     ]
    }
   ],
   "source": [
    "install.packages(\"lubridate\", repos = \"http://cran.us.r-project.org\")"
   ]
  },
  {
   "cell_type": "code",
   "execution_count": 2,
   "metadata": {},
   "outputs": [
    {
     "name": "stderr",
     "output_type": "stream",
     "text": [
      "\n",
      "Attaching package: 'dplyr'\n",
      "\n",
      "The following objects are masked from 'package:stats':\n",
      "\n",
      "    filter, lag\n",
      "\n",
      "The following objects are masked from 'package:base':\n",
      "\n",
      "    intersect, setdiff, setequal, union\n",
      "\n",
      "\n",
      "Attaching package: 'lubridate'\n",
      "\n",
      "The following object is masked from 'package:base':\n",
      "\n",
      "    date\n",
      "\n"
     ]
    }
   ],
   "source": [
    "library(dplyr)\n",
    "library(lubridate)\n",
    "library(ggplot2)"
   ]
  },
  {
   "cell_type": "code",
   "execution_count": 3,
   "metadata": {
    "collapsed": true
   },
   "outputs": [],
   "source": [
    "cs <- read.delim(\"H(TSV)/HDS_Customers.tab\",stringsAsFactors = F)\n",
    "tr <- read.delim(\"H(TSV)/HDS_Transactions_MG.tab\", stringsAsFactors = F)"
   ]
  },
  {
   "cell_type": "code",
   "execution_count": 5,
   "metadata": {},
   "outputs": [
    {
     "name": "stdout",
     "output_type": "stream",
     "text": [
      "'data.frame':\t1726430 obs. of  18 variables:\n",
      " $ sales_date        : chr  \"2000-05-01 00:00:00\" \"2000-05-01 00:00:00\" \"2000-05-01 00:00:00\" \"2000-05-01 00:00:00\" ...\n",
      " $ sales_time        : int  920 940 940 1003 1013 1020 1020 1023 1030 1030 ...\n",
      " $ custid            : int  7595 36860 48385 29611 16457 27982 32036 6472 13301 21116 ...\n",
      " $ str_nm            : chr  \"신촌점\" \"본점\" \"본점\" \"무역점\" ...\n",
      " $ goodcd            : num  2.70e+12 2.70e+12 4.13e+12 4.51e+12 4.12e+12 ...\n",
      " $ brd_nm            : chr  \"식품\" \"식품\" \"슈프리미아\" \"삼운/브로니\" ...\n",
      " $ corner_nm         : chr  \"주류\" \"차류\" \"화장잡화\" \"욕실용품\" ...\n",
      " $ pc_nm             : chr  \"일반식품\" \"일반식품\" \"장신구\" \"식기\" ...\n",
      " $ part_nm           : chr  \"공산품\" \"공산품파트\" \"잡화파트\" \"가정용품\" ...\n",
      " $ team_nm           : chr  \"식품팀\" \"식품팀\" \"잡화가용팀\" \"잡화가용팀\" ...\n",
      " $ buyer_nm          : chr  \"일반식품\" \"일반식품\" \"장신구\" \"조리욕실\" ...\n",
      " $ import_flg        : int  0 0 0 1 0 0 0 0 1 1 ...\n",
      " $ tot_amt           : int  28000 59700 17000 14000 5800 34937 7000 46000 358000 19000 ...\n",
      " $ dis_amt           : int  0 0 0 700 290 0 0 2300 17900 0 ...\n",
      " $ net_amt           : int  28000 59700 17000 13300 5510 34937 7000 43700 340100 19000 ...\n",
      " $ inst_mon          : int  1 1 1 1 1 1 1 1 1 1 ...\n",
      " $ fee_flg_유이자할부: int  0 0 0 0 0 0 0 0 0 0 ...\n",
      " $ super_flg         : int  2 2 3 3 3 1 2 3 3 3 ...\n"
     ]
    }
   ],
   "source": [
    "str(tr)"
   ]
  },
  {
   "cell_type": "code",
   "execution_count": 6,
   "metadata": {
    "collapsed": true
   },
   "outputs": [],
   "source": [
    "cs.v1 <- tr %>% filter(net_amt < 0) %>% group_by(custid) %>% summarize(rf_amt = sum(net_amt),rf_cnt=n())"
   ]
  },
  {
   "cell_type": "code",
   "execution_count": 8,
   "metadata": {},
   "outputs": [
    {
     "data": {
      "text/html": [
       "<table>\n",
       "<thead><tr><th></th><th scope=col>custid</th><th scope=col>rf_amt</th><th scope=col>rf_cnt</th></tr></thead>\n",
       "<tbody>\n",
       "\t<tr><th scope=row>1</th><td>    49732</td><td>-85353770</td><td>       46</td></tr>\n",
       "\t<tr><th scope=row>2</th><td>    32532</td><td>-72902000</td><td>        3</td></tr>\n",
       "\t<tr><th scope=row>3</th><td>    45609</td><td>-72892750</td><td>       51</td></tr>\n",
       "\t<tr><th scope=row>4</th><td>    47465</td><td>-66955550</td><td>       40</td></tr>\n",
       "\t<tr><th scope=row>5</th><td>    35394</td><td>-62948060</td><td>       59</td></tr>\n",
       "\t<tr><th scope=row>6</th><td>    46408</td><td>-50683350</td><td>       38</td></tr>\n",
       "</tbody>\n",
       "</table>\n"
      ],
      "text/latex": [
       "\\begin{tabular}{r|lll}\n",
       "  & custid & rf\\_amt & rf\\_cnt\\\\\n",
       "\\hline\n",
       "\t1 &     49732 & -85353770 &        46\\\\\n",
       "\t2 &     32532 & -72902000 &         3\\\\\n",
       "\t3 &     45609 & -72892750 &        51\\\\\n",
       "\t4 &     47465 & -66955550 &        40\\\\\n",
       "\t5 &     35394 & -62948060 &        59\\\\\n",
       "\t6 &     46408 & -50683350 &        38\\\\\n",
       "\\end{tabular}\n"
      ],
      "text/plain": [
       "  custid    rf_amt rf_cnt\n",
       "1  49732 -85353770     46\n",
       "2  32532 -72902000      3\n",
       "3  45609 -72892750     51\n",
       "4  47465 -66955550     40\n",
       "5  35394 -62948060     59\n",
       "6  46408 -50683350     38"
      ]
     },
     "metadata": {},
     "output_type": "display_data"
    }
   ],
   "source": [
    "head(cs.v1[order(cs.v1$rf_amt),])"
   ]
  },
  {
   "cell_type": "markdown",
   "metadata": {},
   "source": [
    "## 파생변수–구매상품다양성\n",
    "### 2. H백화점고객의구매상품다양성에대한변수생성\n",
    "<img src=\"./photo/6.PNG\"  align=\"left\">"
   ]
  },
  {
   "cell_type": "code",
   "execution_count": 10,
   "metadata": {},
   "outputs": [
    {
     "data": {
      "text/html": [
       "<table>\n",
       "<thead><tr><th></th><th scope=col>custid</th><th scope=col>buy_brd</th></tr></thead>\n",
       "<tbody>\n",
       "\t<tr><th scope=row>1</th><td> 1</td><td>23</td></tr>\n",
       "\t<tr><th scope=row>2</th><td> 2</td><td>16</td></tr>\n",
       "\t<tr><th scope=row>3</th><td> 3</td><td>30</td></tr>\n",
       "\t<tr><th scope=row>4</th><td>4</td><td>6</td></tr>\n",
       "\t<tr><th scope=row>5</th><td>5</td><td>4</td></tr>\n",
       "\t<tr><th scope=row>6</th><td> 6</td><td>14</td></tr>\n",
       "</tbody>\n",
       "</table>\n"
      ],
      "text/latex": [
       "\\begin{tabular}{r|ll}\n",
       "  & custid & buy\\_brd\\\\\n",
       "\\hline\n",
       "\t1 &  1 & 23\\\\\n",
       "\t2 &  2 & 16\\\\\n",
       "\t3 &  3 & 30\\\\\n",
       "\t4 & 4 & 6\\\\\n",
       "\t5 & 5 & 4\\\\\n",
       "\t6 &  6 & 14\\\\\n",
       "\\end{tabular}\n"
      ],
      "text/plain": [
       "  custid buy_brd\n",
       "1      1      23\n",
       "2      2      16\n",
       "3      3      30\n",
       "4      4       6\n",
       "5      5       4\n",
       "6      6      14"
      ]
     },
     "metadata": {},
     "output_type": "display_data"
    }
   ],
   "source": [
    "cs.v2 <- tr %>% distinct(custid,brd_nm) %>% group_by(custid) %>% summarize(buy_brd=n())\n",
    "head(cs.v2)"
   ]
  },
  {
   "cell_type": "markdown",
   "metadata": {},
   "source": [
    "## 파생변수–내점일수& 구매주기\n",
    "### 3. H백화점 고객의 내점일수와 평균구매주기(Average Purchasing Interval)를 계산\n",
    "<img src=\"./photo/7.PNG\"  align=\"left\">"
   ]
  },
  {
   "cell_type": "code",
   "execution_count": 12,
   "metadata": {},
   "outputs": [
    {
     "data": {
      "text/plain": [
       "[1] \"2000-05-01\""
      ]
     },
     "metadata": {},
     "output_type": "display_data"
    },
    {
     "data": {
      "text/plain": [
       "[1] \"2001-04-29\""
      ]
     },
     "metadata": {},
     "output_type": "display_data"
    }
   ],
   "source": [
    "start_date = ymd(ymd_hms(min(tr$sales_date)))\n",
    "end_date = ymd(ymd_hms(max(tr$sales_date)))\n",
    "start_date\n",
    "end_date"
   ]
  },
  {
   "cell_type": "code",
   "execution_count": 13,
   "metadata": {},
   "outputs": [
    {
     "data": {
      "text/html": [
       "<table>\n",
       "<thead><tr><th></th><th scope=col>custid</th><th scope=col>visits</th><th scope=col>API</th></tr></thead>\n",
       "<tbody>\n",
       "\t<tr><th scope=row>1</th><td> 1.000000</td><td>41.000000</td><td> 8.853659</td></tr>\n",
       "\t<tr><th scope=row>2</th><td> 2</td><td>11</td><td>33</td></tr>\n",
       "\t<tr><th scope=row>3</th><td> 3.00000</td><td>27.00000</td><td>13.44444</td></tr>\n",
       "\t<tr><th scope=row>4</th><td> 4.00</td><td> 4.00</td><td>90.75</td></tr>\n",
       "\t<tr><th scope=row>5</th><td>  5</td><td>  3</td><td>121</td></tr>\n",
       "\t<tr><th scope=row>6</th><td> 6.0</td><td>15.0</td><td>24.2</td></tr>\n",
       "</tbody>\n",
       "</table>\n"
      ],
      "text/latex": [
       "\\begin{tabular}{r|lll}\n",
       "  & custid & visits & API\\\\\n",
       "\\hline\n",
       "\t1 &  1.000000 & 41.000000 &  8.853659\\\\\n",
       "\t2 &  2 & 11 & 33\\\\\n",
       "\t3 &  3.00000 & 27.00000 & 13.44444\\\\\n",
       "\t4 &  4.00 &  4.00 & 90.75\\\\\n",
       "\t5 &   5 &   3 & 121\\\\\n",
       "\t6 &  6.0 & 15.0 & 24.2\\\\\n",
       "\\end{tabular}\n"
      ],
      "text/plain": [
       "  custid visits        API\n",
       "1      1     41   8.853659\n",
       "2      2     11  33.000000\n",
       "3      3     27  13.444444\n",
       "4      4      4  90.750000\n",
       "5      5      3 121.000000\n",
       "6      6     15  24.200000"
      ]
     },
     "metadata": {},
     "output_type": "display_data"
    }
   ],
   "source": [
    "cs.v3 <- tr %>% distinct(custid,sales_date) %>% group_by(custid) %>% summarize(visits=n()) %>% mutate(API = as.integer(end_date - start_date)/visits)\n",
    "head(cs.v3)"
   ]
  },
  {
   "cell_type": "markdown",
   "metadata": {},
   "source": [
    "## 파생변수–내점당구매건수\n",
    "### 4. 내점 당 구매건수(Number of Purchases Per Visit) 도출\n",
    "<img src=\"./photo/8.PNG\"  align=\"left\">"
   ]
  },
  {
   "cell_type": "code",
   "execution_count": 14,
   "metadata": {},
   "outputs": [
    {
     "name": "stderr",
     "output_type": "stream",
     "text": [
      "Joining, by = \"custid\"\n"
     ]
    },
    {
     "data": {
      "text/html": [
       "<table>\n",
       "<thead><tr><th></th><th scope=col>custid</th><th scope=col>NPPV</th></tr></thead>\n",
       "<tbody>\n",
       "\t<tr><th scope=row>1</th><td>1.000000</td><td>1.878049</td></tr>\n",
       "\t<tr><th scope=row>2</th><td>2.000000</td><td>2.545455</td></tr>\n",
       "\t<tr><th scope=row>3</th><td>3.000000</td><td>2.518519</td></tr>\n",
       "\t<tr><th scope=row>4</th><td>4.0</td><td>1.5</td></tr>\n",
       "\t<tr><th scope=row>5</th><td>5.000000</td><td>1.333333</td></tr>\n",
       "\t<tr><th scope=row>6</th><td>6.000000</td><td>1.933333</td></tr>\n",
       "</tbody>\n",
       "</table>\n"
      ],
      "text/latex": [
       "\\begin{tabular}{r|ll}\n",
       "  & custid & NPPV\\\\\n",
       "\\hline\n",
       "\t1 & 1.000000 & 1.878049\\\\\n",
       "\t2 & 2.000000 & 2.545455\\\\\n",
       "\t3 & 3.000000 & 2.518519\\\\\n",
       "\t4 & 4.0 & 1.5\\\\\n",
       "\t5 & 5.000000 & 1.333333\\\\\n",
       "\t6 & 6.000000 & 1.933333\\\\\n",
       "\\end{tabular}\n"
      ],
      "text/plain": [
       "  custid     NPPV\n",
       "1      1 1.878049\n",
       "2      2 2.545455\n",
       "3      3 2.518519\n",
       "4      4 1.500000\n",
       "5      5 1.333333\n",
       "6      6 1.933333"
      ]
     },
     "metadata": {},
     "output_type": "display_data"
    }
   ],
   "source": [
    "tmp <- tr %>% group_by(custid) %>% summarize(n=n())\n",
    "cs.v4 <- inner_join(cs.v3, tmp) %>% mutate(NPPV = n/visits) %>% select(custid,NPPV)\n",
    "head(cs.v4)"
   ]
  },
  {
   "cell_type": "markdown",
   "metadata": {},
   "source": [
    "## 파생변수–요일별구매패턴\n",
    "### 5. H 백화점 고객의 주중•주말 구매 패턴에 대한 변수 생성\n",
    "<img src=\"./photo/9.PNG\"  align=\"left\">"
   ]
  },
  {
   "cell_type": "code",
   "execution_count": 15,
   "metadata": {},
   "outputs": [
    {
     "data": {
      "text/html": [
       "<table>\n",
       "<thead><tr><th></th><th scope=col>custid</th><th scope=col>wk_amt</th><th scope=col>we_amt</th><th scope=col>wk_pat</th></tr></thead>\n",
       "<tbody>\n",
       "\t<tr><th scope=row>1</th><td>1      </td><td>2590892</td><td>1167489</td><td>주중형 </td></tr>\n",
       "\t<tr><th scope=row>2</th><td>2      </td><td>1735009</td><td>326170 </td><td>주중형 </td></tr>\n",
       "\t<tr><th scope=row>3</th><td>3      </td><td>5742729</td><td>683320 </td><td>주중형 </td></tr>\n",
       "\t<tr><th scope=row>4</th><td>4     </td><td>254300</td><td>127000</td><td>주중형</td></tr>\n",
       "\t<tr><th scope=row>5</th><td>5     </td><td>129600</td><td>26100 </td><td>주중형</td></tr>\n",
       "\t<tr><th scope=row>6</th><td>6      </td><td>460900 </td><td>1556500</td><td>주말형 </td></tr>\n",
       "</tbody>\n",
       "</table>\n"
      ],
      "text/latex": [
       "\\begin{tabular}{r|llll}\n",
       "  & custid & wk\\_amt & we\\_amt & wk\\_pat\\\\\n",
       "\\hline\n",
       "\t1 & 1       & 2590892 & 1167489 & 주중형 \\\\\n",
       "\t2 & 2       & 1735009 & 326170  & 주중형 \\\\\n",
       "\t3 & 3       & 5742729 & 683320  & 주중형 \\\\\n",
       "\t4 & 4      & 254300 & 127000 & 주중형\\\\\n",
       "\t5 & 5      & 129600 & 26100  & 주중형\\\\\n",
       "\t6 & 6       & 460900  & 1556500 & 주말형 \\\\\n",
       "\\end{tabular}\n"
      ],
      "text/plain": [
       "  custid  wk_amt  we_amt wk_pat\n",
       "1      1 2590892 1167489 주중형\n",
       "2      2 1735009  326170 주중형\n",
       "3      3 5742729  683320 주중형\n",
       "4      4  254300  127000 주중형\n",
       "5      5  129600   26100 주중형\n",
       "6      6  460900 1556500 주말형"
      ]
     },
     "metadata": {},
     "output_type": "display_data"
    }
   ],
   "source": [
    "tmp <- tr %>% mutate(wk_amt = ifelse(wday(sales_date) %in% 2:6 ,net_amt,0), we_amt = ifelse(wday(sales_date) %in% c(1,7),net_amt,0)) %>% group_by(custid) \n",
    "tmp <- tmp %>% summarise_each(funs(sum),wk_amt,we_amt)    \n",
    "cs.v5 <- tmp %>% mutate(wk_pat = ifelse(wk_amt>=we_amt*1.5,\"주중형\",ifelse(we_amt>=wk_amt*1.5,\"주말형\",\"유형없음\")))  \n",
    "head(cs.v5)"
   ]
  },
  {
   "cell_type": "code",
   "execution_count": 18,
   "metadata": {
    "collapsed": true
   },
   "outputs": [],
   "source": [
    "cs.v5_2 <- tmp %>% mutate(wk_pat = ifelse(wk_amt>=we_amt*1.5,\"Weekdays\",ifelse(we_amt>=wk_amt*1.5,\"Weekends\",\"No Type\")))  "
   ]
  },
  {
   "cell_type": "code",
   "execution_count": 20,
   "metadata": {},
   "outputs": [
    {
     "data": {},
     "metadata": {},
     "output_type": "display_data"
    },
    {
     "data": {
      "image/png": "[encoded data removed]",
      "text/plain": [
       "plot without title"
      ]
     },
     "metadata": {},
     "output_type": "display_data"
    }
   ],
   "source": [
    "options(repr.plot.width = 5, repr.plot.height=4)\n",
    "ggplot(cs.v5_2, aes(wk_pat)) + geom_bar(aes(fill=wk_pat))"
   ]
  },
  {
   "cell_type": "markdown",
   "metadata": {},
   "source": [
    "## 파생변수–나이와연령대\n",
    "### 6. 고객의 생일로부터 특정 시점의 나이와 연령대를 계산\n",
    "<img src=\"./photo/10.PNG\"  align=\"left\">"
   ]
  },
  {
   "cell_type": "code",
   "execution_count": 21,
   "metadata": {},
   "outputs": [
    {
     "name": "stderr",
     "output_type": "stream",
     "text": [
      "Warning message:\n",
      ":  7839 failed to parse."
     ]
    },
    {
     "data": {
      "text/html": [
       "<table>\n",
       "<thead><tr><th></th><th scope=col>custid</th><th scope=col>age</th><th scope=col>agegrp</th></tr></thead>\n",
       "<tbody>\n",
       "\t<tr><th scope=row>1</th><td> 1</td><td>36</td><td>30</td></tr>\n",
       "\t<tr><th scope=row>2</th><td> 2</td><td>36</td><td>30</td></tr>\n",
       "\t<tr><th scope=row>3</th><td> 3</td><td>36</td><td>30</td></tr>\n",
       "\t<tr><th scope=row>4</th><td> 4</td><td>19</td><td>10</td></tr>\n",
       "\t<tr><th scope=row>5</th><td> 5</td><td>19</td><td>10</td></tr>\n",
       "\t<tr><th scope=row>6</th><td> 6</td><td>20</td><td>20</td></tr>\n",
       "</tbody>\n",
       "</table>\n"
      ],
      "text/latex": [
       "\\begin{tabular}{r|lll}\n",
       "  & custid & age & agegrp\\\\\n",
       "\\hline\n",
       "\t1 &  1 & 36 & 30\\\\\n",
       "\t2 &  2 & 36 & 30\\\\\n",
       "\t3 &  3 & 36 & 30\\\\\n",
       "\t4 &  4 & 19 & 10\\\\\n",
       "\t5 &  5 & 19 & 10\\\\\n",
       "\t6 &  6 & 20 & 20\\\\\n",
       "\\end{tabular}\n"
      ],
      "text/plain": [
       "  custid age agegrp\n",
       "1      1  36     30\n",
       "2      2  36     30\n",
       "3      3  36     30\n",
       "4      4  19     10\n",
       "5      5  19     10\n",
       "6      6  20     20"
      ]
     },
     "metadata": {},
     "output_type": "display_data"
    }
   ],
   "source": [
    "cs.v6<-cs %>%\n",
    "  mutate(age=year('2001-05-01') -year(ymd_hms(birth))) %>%\n",
    "  mutate(age=ifelse(age < 10 | age > 100, NA, age)) %>%\n",
    "  mutate(age=ifelse(is.na(age),round(mean(age,na.rm=T)),age)) %>%\n",
    "  mutate(agegrp=cut(age, c(0,19,29,39,49,59,69,100), labels=F)*10) %>%\n",
    "  select(custid, age, agegrp)\n",
    "head(cs.v6)"
   ]
  },
  {
   "cell_type": "markdown",
   "metadata": {},
   "source": [
    " - 위와 같은 결과 "
   ]
  },
  {
   "cell_type": "code",
   "execution_count": 23,
   "metadata": {},
   "outputs": [
    {
     "name": "stderr",
     "output_type": "stream",
     "text": [
      "Warning message:\n",
      ":  7839 failed to parse."
     ]
    },
    {
     "data": {
      "text/html": [
       "<table>\n",
       "<thead><tr><th></th><th scope=col>custid</th><th scope=col>age</th><th scope=col>agegrp</th></tr></thead>\n",
       "<tbody>\n",
       "\t<tr><th scope=row>1</th><td> 1</td><td>36</td><td>30</td></tr>\n",
       "\t<tr><th scope=row>2</th><td> 2</td><td>36</td><td>30</td></tr>\n",
       "\t<tr><th scope=row>3</th><td> 3</td><td>36</td><td>30</td></tr>\n",
       "\t<tr><th scope=row>4</th><td> 4</td><td>19</td><td>10</td></tr>\n",
       "\t<tr><th scope=row>5</th><td> 5</td><td>19</td><td>10</td></tr>\n",
       "\t<tr><th scope=row>6</th><td> 6</td><td>20</td><td>20</td></tr>\n",
       "</tbody>\n",
       "</table>\n"
      ],
      "text/latex": [
       "\\begin{tabular}{r|lll}\n",
       "  & custid & age & agegrp\\\\\n",
       "\\hline\n",
       "\t1 &  1 & 36 & 30\\\\\n",
       "\t2 &  2 & 36 & 30\\\\\n",
       "\t3 &  3 & 36 & 30\\\\\n",
       "\t4 &  4 & 19 & 10\\\\\n",
       "\t5 &  5 & 19 & 10\\\\\n",
       "\t6 &  6 & 20 & 20\\\\\n",
       "\\end{tabular}\n"
      ],
      "text/plain": [
       "  custid age agegrp\n",
       "1      1  36     30\n",
       "2      2  36     30\n",
       "3      3  36     30\n",
       "4      4  19     10\n",
       "5      5  19     10\n",
       "6      6  20     20"
      ]
     },
     "metadata": {},
     "output_type": "display_data"
    }
   ],
   "source": [
    "cs.v6_2 <-cs%>% # 위와동일한결과를얻는다른표현\n",
    "  mutate(age=year('2001-05-01') -year(ymd_hms(birth)),\n",
    "         age=ifelse(age < 10 | age > 100, NA, age),\n",
    "         age=ifelse(is.na(age),round(mean(age,na.rm=T)),age),\n",
    "         agegrp=cut(age, c(0,19,29,39,49,59,69,100), labels=F)*10) %>%\n",
    "  select(custid, age, agegrp)\n",
    "head(cs.v6_2)"
   ]
  },
  {
   "cell_type": "markdown",
   "metadata": {},
   "source": [
    "## 파생변수–기간별구매금액& 횟수(1/2)\n",
    "### 7. H백화점 고객의 최근 12개월 구매 금액 및 구매 횟수에 대한 변수 생성\n",
    "<img src=\"./photo/11.PNG\"  align=\"left\">"
   ]
  },
  {
   "cell_type": "code",
   "execution_count": 25,
   "metadata": {},
   "outputs": [
    {
     "data": {
      "text/plain": [
       "[1] \"2001-04-29\""
      ]
     },
     "metadata": {},
     "output_type": "display_data"
    },
    {
     "data": {
      "text/plain": [
       "[1] \"2000-05-01\""
      ]
     },
     "metadata": {},
     "output_type": "display_data"
    }
   ],
   "source": [
    "end_date <- ymd(ymd_hms(max(tr$sales_date)))\n",
    "start_date <- ymd('20010501') - months(12)\n",
    "end_date\n",
    "start_date"
   ]
  },
  {
   "cell_type": "code",
   "execution_count": 26,
   "metadata": {
    "collapsed": true
   },
   "outputs": [],
   "source": [
    "cs.v7.12 <-tr%>%\n",
    "  filter(start_date<=sales_date& sales_date<=end_date) %>%\n",
    "  group_by(custid) %>%\n",
    "  summarize(amt12=sum(net_amt), nop12=n())"
   ]
  },
  {
   "cell_type": "markdown",
   "metadata": {},
   "source": [
    "## 파생변수–기간별구매금액& 횟수(2/2)\n",
    "### 8. 최근 3개월, 6개월, 12개월 구매 금액 및 횟수 계산 및 병합\n",
    "<img src=\"./photo/12.PNG\"  align=\"left\">"
   ]
  },
  {
   "cell_type": "code",
   "execution_count": 27,
   "metadata": {
    "collapsed": true
   },
   "outputs": [],
   "source": [
    "start_date<-ymd('20010501') -months(6)"
   ]
  },
  {
   "cell_type": "code",
   "execution_count": 28,
   "metadata": {
    "collapsed": true
   },
   "outputs": [],
   "source": [
    "cs.v7.06 <-tr%>%\n",
    "    filter(start_date<=sales_date& sales_date<=end_date) %>%\n",
    "    group_by(custid) %>%\n",
    "    summarize(amt6=sum(net_amt), nop6=n())"
   ]
  },
  {
   "cell_type": "code",
   "execution_count": 29,
   "metadata": {
    "collapsed": true
   },
   "outputs": [],
   "source": [
    "start_date<-ymd('20010501') -months(3)"
   ]
  },
  {
   "cell_type": "code",
   "execution_count": 30,
   "metadata": {
    "collapsed": true
   },
   "outputs": [],
   "source": [
    "cs.v7.03 <-tr%>%\n",
    "    filter(start_date<=sales_date& sales_date<=end_date) %>%\n",
    "    group_by(custid) %>%\n",
    "    summarize(amt3=sum(net_amt), nop3=n())"
   ]
  },
  {
   "cell_type": "code",
   "execution_count": 32,
   "metadata": {},
   "outputs": [
    {
     "name": "stderr",
     "output_type": "stream",
     "text": [
      "Joining, by = \"custid\"\n",
      "Joining, by = \"custid\"\n"
     ]
    }
   ],
   "source": [
    "cs.v7 <- left_join(cs.v7.12, cs.v7.06) %>% left_join(cs.v7.03) "
   ]
  },
  {
   "cell_type": "code",
   "execution_count": 34,
   "metadata": {},
   "outputs": [
    {
     "data": {
      "text/html": [
       "<table>\n",
       "<thead><tr><th></th><th scope=col>custid</th><th scope=col>amt12</th><th scope=col>nop12</th><th scope=col>amt6</th><th scope=col>nop6</th><th scope=col>amt3</th><th scope=col>nop3</th></tr></thead>\n",
       "<tbody>\n",
       "\t<tr><th scope=row>1</th><td>      1</td><td>3758381</td><td>     77</td><td>1337108</td><td>     34</td><td> 511654</td><td>     13</td></tr>\n",
       "\t<tr><th scope=row>2</th><td>      2</td><td>2061179</td><td>     28</td><td> 190929</td><td>      7</td><td> 190929</td><td>      7</td></tr>\n",
       "\t<tr><th scope=row>3</th><td>      3</td><td>6426049</td><td>     68</td><td>4021376</td><td>     41</td><td>3227130</td><td>     18</td></tr>\n",
       "\t<tr><th scope=row>4</th><td>     4</td><td>381300</td><td>     6</td><td>381300</td><td>     6</td><td> 89700</td><td>     2</td></tr>\n",
       "\t<tr><th scope=row>5</th><td>     5</td><td>155700</td><td>     4</td><td>155700</td><td>     4</td><td>155700</td><td>     4</td></tr>\n",
       "\t<tr><th scope=row>6</th><td>      6</td><td>2017400</td><td>     29</td><td> 786060</td><td>     14</td><td>  18060</td><td>      3</td></tr>\n",
       "</tbody>\n",
       "</table>\n"
      ],
      "text/latex": [
       "\\begin{tabular}{r|lllllll}\n",
       "  & custid & amt12 & nop12 & amt6 & nop6 & amt3 & nop3\\\\\n",
       "\\hline\n",
       "\t1 &       1 & 3758381 &      77 & 1337108 &      34 &  511654 &      13\\\\\n",
       "\t2 &       2 & 2061179 &      28 &  190929 &       7 &  190929 &       7\\\\\n",
       "\t3 &       3 & 6426049 &      68 & 4021376 &      41 & 3227130 &      18\\\\\n",
       "\t4 &      4 & 381300 &      6 & 381300 &      6 &  89700 &      2\\\\\n",
       "\t5 &      5 & 155700 &      4 & 155700 &      4 & 155700 &      4\\\\\n",
       "\t6 &       6 & 2017400 &      29 &  786060 &      14 &   18060 &       3\\\\\n",
       "\\end{tabular}\n"
      ],
      "text/plain": [
       "  custid   amt12 nop12    amt6 nop6    amt3 nop3\n",
       "1      1 3758381    77 1337108   34  511654   13\n",
       "2      2 2061179    28  190929    7  190929    7\n",
       "3      3 6426049    68 4021376   41 3227130   18\n",
       "4      4  381300     6  381300    6   89700    2\n",
       "5      5  155700     4  155700    4  155700    4\n",
       "6      6 2017400    29  786060   14   18060    3"
      ]
     },
     "metadata": {},
     "output_type": "display_data"
    }
   ],
   "source": [
    "head(cs.v7)"
   ]
  },
  {
   "cell_type": "markdown",
   "metadata": {},
   "source": [
    "#### amt6, nop6, amt3, nop3가 NA이면 0으로 대체하는 코드 삽입"
   ]
  },
  {
   "cell_type": "code",
   "execution_count": 37,
   "metadata": {},
   "outputs": [
    {
     "data": {
      "text/plain": [
       "     custid          amt12               nop12             amt6         \n",
       " Min.   :    1   Min.   :-10805201   Min.   :  1.00   Min.   :-4362799  \n",
       " 1st Qu.:12504   1st Qu.:   690080   1st Qu.: 10.00   1st Qu.:  348088  \n",
       " Median :25003   Median :  1733670   Median : 21.00   Median :  913110  \n",
       " Mean   :25002   Mean   :  3291448   Mean   : 34.53   Mean   : 1790009  \n",
       " 3rd Qu.:37502   3rd Qu.:  3905844   3rd Qu.: 44.00   3rd Qu.: 2124795  \n",
       " Max.   :50000   Max.   :114790147   Max.   :672.00   Max.   :82464008  \n",
       "                                                      NA's   :3429      \n",
       "      nop6             amt3               nop3       \n",
       " Min.   :  1.00   Min.   :-8331550   Min.   :  1.00  \n",
       " 1st Qu.:  5.00   1st Qu.:  186385   1st Qu.:  3.00  \n",
       " Median : 11.00   Median :  488200   Median :  7.00  \n",
       " Mean   : 17.99   Mean   :  979586   Mean   : 10.38  \n",
       " 3rd Qu.: 23.00   3rd Qu.: 1162340   3rd Qu.: 13.00  \n",
       " Max.   :337.00   Max.   :66231666   Max.   :189.00  \n",
       " NA's   :3429     NA's   :8776       NA's   :8776    "
      ]
     },
     "metadata": {},
     "output_type": "display_data"
    }
   ],
   "source": [
    "summary(cs.v7)"
   ]
  },
  {
   "cell_type": "code",
   "execution_count": 59,
   "metadata": {},
   "outputs": [],
   "source": [
    "cs.v7[is.na(cs.v7$amt6),]$amt6 <- 0\n",
    "cs.v7[is.na(cs.v7$nop6),]$nop6 <- 0\n",
    "cs.v7[is.na(cs.v7$amt3),]$amt3 <- 0\n",
    "cs.v7[is.na(cs.v7$nop3),]$nop3 <- 0"
   ]
  },
  {
   "cell_type": "code",
   "execution_count": 61,
   "metadata": {},
   "outputs": [
    {
     "data": {
      "text/plain": [
       "     custid          amt12               nop12             amt6         \n",
       " Min.   :    1   Min.   :-10805201   Min.   :  1.00   Min.   :-4362799  \n",
       " 1st Qu.:12504   1st Qu.:   690080   1st Qu.: 10.00   1st Qu.:  257940  \n",
       " Median :25003   Median :  1733670   Median : 21.00   Median :  807580  \n",
       " Mean   :25002   Mean   :  3291448   Mean   : 34.53   Mean   : 1667238  \n",
       " 3rd Qu.:37502   3rd Qu.:  3905844   3rd Qu.: 44.00   3rd Qu.: 1981376  \n",
       " Max.   :50000   Max.   :114790147   Max.   :672.00   Max.   :82464008  \n",
       "      nop6             amt3               nop3        \n",
       " Min.   :  0.00   Min.   :-8331550   Min.   :  0.000  \n",
       " 1st Qu.:  4.00   1st Qu.:   63514   1st Qu.:  1.000  \n",
       " Median : 10.00   Median :  335010   Median :  5.000  \n",
       " Mean   : 16.76   Mean   :  807632   Mean   :  8.561  \n",
       " 3rd Qu.: 22.00   3rd Qu.:  956800   3rd Qu.: 11.000  \n",
       " Max.   :337.00   Max.   :66231666   Max.   :189.000  "
      ]
     },
     "metadata": {},
     "output_type": "display_data"
    }
   ],
   "source": [
    "summary(cs.v7)"
   ]
  },
  {
   "cell_type": "markdown",
   "metadata": {},
   "source": [
    "## Customer Signature 만들기"
   ]
  },
  {
   "cell_type": "code",
   "execution_count": 62,
   "metadata": {},
   "outputs": [
    {
     "name": "stderr",
     "output_type": "stream",
     "text": [
      "Joining, by = \"custid\"\n",
      "Joining, by = \"custid\"\n",
      "Joining, by = \"custid\"\n",
      "Joining, by = \"custid\"\n",
      "Joining, by = \"custid\"\n",
      "Joining, by = \"custid\"\n",
      "Joining, by = \"custid\"\n"
     ]
    }
   ],
   "source": [
    "custsig<-cs%>%\n",
    "    left_join(cs.v1) %>%\n",
    "    left_join(cs.v2) %>%\n",
    "    left_join(cs.v3) %>%\n",
    "    left_join(cs.v4) %>%\n",
    "    left_join(cs.v5) %>%\n",
    "    left_join(cs.v6) %>%\n",
    "    left_join(cs.v7)"
   ]
  },
  {
   "cell_type": "code",
   "execution_count": 66,
   "metadata": {},
   "outputs": [
    {
     "data": {
      "text/plain": [
       "     custid           sex           birth             birth_flg      \n",
       " Min.   :    1   Min.   :0.000   Length:49995       Min.   :-1.0000  \n",
       " 1st Qu.:12504   1st Qu.:1.000   Class :character   1st Qu.: 1.0000  \n",
       " Median :25003   Median :2.000   Mode  :character   Median : 1.0000  \n",
       " Mean   :25002   Mean   :1.696                      Mean   : 0.9884  \n",
       " 3rd Qu.:37502   3rd Qu.:2.000                      3rd Qu.: 2.0000  \n",
       " Max.   :50000   Max.   :2.000                      Max.   : 2.0000  \n",
       "                                                                     \n",
       "   card_flg1      mrg_date            mrg_flg        h_type1         \n",
       " Min.   :1100   Length:49995       Min.   :0.000   Length:49995      \n",
       " 1st Qu.:1346   Class :character   1st Qu.:1.000   Class :character  \n",
       " Median :1396   Mode  :character   Median :1.000   Mode  :character  \n",
       " Mean   :1420                      Mean   :1.262                     \n",
       " 3rd Qu.:1505                      3rd Qu.:2.000                     \n",
       " Max.   :6520                      Max.   :7.000                     \n",
       "                                                                     \n",
       "    h_type2          hobby         job_stype     income_flg       \n",
       " Min.   :0.000   Min.   : 1.00   Min.   :   0   Length:49995      \n",
       " 1st Qu.:1.000   1st Qu.:17.00   1st Qu.:3050   Class :character  \n",
       " Median :3.000   Median :17.00   Median :4660   Mode  :character  \n",
       " Mean   :2.753   Mean   :13.93   Mean   :4926                     \n",
       " 3rd Qu.:4.000   3rd Qu.:17.00   3rd Qu.:7060                     \n",
       " Max.   :8.000   Max.   :17.00   Max.   :8201                     \n",
       "                                                                  \n",
       "  car_stype           rel_type           dmnot_flg        tmnot_flg        \n",
       " Length:49995       Length:49995       Min.   :0.00000   Length:49995      \n",
       " Class :character   Class :character   1st Qu.:0.00000   Class :character  \n",
       " Mode  :character   Mode  :character   Median :0.00000   Mode  :character  \n",
       "                                       Mean   :0.00322                     \n",
       "                                       3rd Qu.:0.00000                     \n",
       "                                       Max.   :1.00000                     \n",
       "                                                                           \n",
       "  pur_date1          pur_date2          pur_date3           ent_date        \n",
       " Length:49995       Length:49995       Length:49995       Length:49995      \n",
       " Class :character   Class :character   Class :character   Class :character  \n",
       " Mode  :character   Mode  :character   Mode  :character   Mode  :character  \n",
       "                                                                            \n",
       "                                                                            \n",
       "                                                                            \n",
       "                                                                            \n",
       "   card_flg2          mail_flg        card_str       mail_zip1    \n",
       " Min.   :0.00000   Min.   :1.000   Min.   :110.0   Min.   :100.0  \n",
       " 1st Qu.:0.00000   1st Qu.:1.000   1st Qu.:210.0   1st Qu.:134.0  \n",
       " Median :0.00000   Median :1.000   Median :220.0   Median :135.0  \n",
       " Mean   :0.02212   Mean   :1.175   Mean   :230.4   Mean   :180.4  \n",
       " 3rd Qu.:0.00000   3rd Qu.:1.000   3rd Qu.:260.0   3rd Qu.:143.0  \n",
       " Max.   :2.00000   Max.   :2.000   Max.   :410.0   Max.   :487.0  \n",
       "                                                                  \n",
       "   mail_zip2      home_zip1          home_zip2          work_zip1        \n",
       " Min.   : 10.0   Length:49995       Length:49995       Length:49995      \n",
       " 1st Qu.:759.0   Class :character   Class :character   Class :character  \n",
       " Median :806.0   Mode  :character   Mode  :character   Mode  :character  \n",
       " Mean   :761.4                                                           \n",
       " 3rd Qu.:857.0                                                           \n",
       " Max.   :999.0                                                           \n",
       "                                                                         \n",
       "  work_zip2           cus_stype        ncus_stype       m_str1         \n",
       " Length:49995       Min.   : 1.000   Min.   : 1.00   Length:49995      \n",
       " Class :character   1st Qu.: 7.000   1st Qu.: 6.00   Class :character  \n",
       " Mode  :character   Median : 9.000   Median : 9.00   Mode  :character  \n",
       "                    Mean   : 8.073   Mean   : 8.26                     \n",
       "                    3rd Qu.:10.000   3rd Qu.:11.00                     \n",
       "                    Max.   :12.000   Max.   :15.00                     \n",
       "                                                                       \n",
       "    m_time1         autopat        billnot_flg         fml_cnt      \n",
       " Min.   :-1.00   Min.   :0.0000   Min.   :0.00000   Min.   :0.0000  \n",
       " 1st Qu.:27.00   1st Qu.:0.0000   1st Qu.:0.00000   1st Qu.:0.0000  \n",
       " Median :32.00   Median :1.0000   Median :0.00000   Median :0.0000  \n",
       " Mean   :30.03   Mean   :0.6258   Mean   :0.00034   Mean   :0.2525  \n",
       " 3rd Qu.:36.00   3rd Qu.:1.0000   3rd Qu.:0.00000   3rd Qu.:0.0000  \n",
       " Max.   :42.00   Max.   :4.0000   Max.   :1.00000   Max.   :5.0000  \n",
       "                                                                    \n",
       "     rf_amt              rf_cnt           buy_brd           visits      \n",
       " Min.   :-85353770   Min.   :  1.000   Min.   :  1.00   Min.   :  1.00  \n",
       " 1st Qu.:  -909375   1st Qu.:  1.000   1st Qu.:  7.00   1st Qu.:  6.00  \n",
       " Median :  -336410   Median :  2.000   Median : 13.00   Median : 12.00  \n",
       " Mean   :  -911511   Mean   :  4.007   Mean   : 17.53   Mean   : 17.98  \n",
       " 3rd Qu.:  -125000   3rd Qu.:  5.000   3rd Qu.: 24.00   3rd Qu.: 23.00  \n",
       " Max.   :      -50   Max.   :137.000   Max.   :188.00   Max.   :249.00  \n",
       " NA's   :21061       NA's   :21061                                      \n",
       "      API               NPPV            wk_amt              we_amt         \n",
       " Min.   :  1.458   Min.   : 1.000   Min.   :-41934209   Min.   :-22470297  \n",
       " 1st Qu.: 15.783   1st Qu.: 1.417   1st Qu.:   299434   1st Qu.:   178970  \n",
       " Median : 30.250   Median : 1.741   Median :   907000   Median :   623200  \n",
       " Mean   : 57.524   Mean   : 1.850   Mean   :  1962638   Mean   :  1328810  \n",
       " 3rd Qu.: 60.500   3rd Qu.: 2.143   3rd Qu.:  2280016   3rd Qu.:  1597918  \n",
       " Max.   :363.000   Max.   :10.000   Max.   : 95401182   Max.   : 75254189  \n",
       "                                                                           \n",
       "    wk_pat               age            agegrp          amt12          \n",
       " Length:49995       Min.   :10.00   Min.   :10.00   Min.   :-10805201  \n",
       " Class :character   1st Qu.:29.00   1st Qu.:20.00   1st Qu.:   690080  \n",
       " Mode  :character   Median :36.00   Median :30.00   Median :  1733670  \n",
       "                    Mean   :36.42   Mean   :31.54   Mean   :  3291448  \n",
       "                    3rd Qu.:41.00   3rd Qu.:40.00   3rd Qu.:  3905844  \n",
       "                    Max.   :95.00   Max.   :70.00   Max.   :114790147  \n",
       "                                                                       \n",
       "     nop12             amt6               nop6             amt3         \n",
       " Min.   :  1.00   Min.   :-4362799   Min.   :  0.00   Min.   :-8331550  \n",
       " 1st Qu.: 10.00   1st Qu.:  257940   1st Qu.:  4.00   1st Qu.:   63514  \n",
       " Median : 21.00   Median :  807580   Median : 10.00   Median :  335010  \n",
       " Mean   : 34.53   Mean   : 1667238   Mean   : 16.76   Mean   :  807632  \n",
       " 3rd Qu.: 44.00   3rd Qu.: 1981376   3rd Qu.: 22.00   3rd Qu.:  956800  \n",
       " Max.   :672.00   Max.   :82464008   Max.   :337.00   Max.   :66231666  \n",
       "                                                                        \n",
       "      nop3        \n",
       " Min.   :  0.000  \n",
       " 1st Qu.:  1.000  \n",
       " Median :  5.000  \n",
       " Mean   :  8.561  \n",
       " 3rd Qu.: 11.000  \n",
       " Max.   :189.000  \n",
       "                  "
      ]
     },
     "metadata": {},
     "output_type": "display_data"
    }
   ],
   "source": [
    "summary(custsig)"
   ]
  },
  {
   "cell_type": "code",
   "execution_count": 69,
   "metadata": {},
   "outputs": [],
   "source": [
    "custsig[is.na(custsig$rf_amt),]$rf_amt <- 0\n",
    "custsig[is.na(custsig$rf_cnt),]$rf_cnt <- 0"
   ]
  },
  {
   "cell_type": "code",
   "execution_count": 70,
   "metadata": {},
   "outputs": [
    {
     "data": {
      "text/plain": [
       "     custid           sex           birth             birth_flg      \n",
       " Min.   :    1   Min.   :0.000   Length:49995       Min.   :-1.0000  \n",
       " 1st Qu.:12504   1st Qu.:1.000   Class :character   1st Qu.: 1.0000  \n",
       " Median :25003   Median :2.000   Mode  :character   Median : 1.0000  \n",
       " Mean   :25002   Mean   :1.696                      Mean   : 0.9884  \n",
       " 3rd Qu.:37502   3rd Qu.:2.000                      3rd Qu.: 2.0000  \n",
       " Max.   :50000   Max.   :2.000                      Max.   : 2.0000  \n",
       "   card_flg1      mrg_date            mrg_flg        h_type1         \n",
       " Min.   :1100   Length:49995       Min.   :0.000   Length:49995      \n",
       " 1st Qu.:1346   Class :character   1st Qu.:1.000   Class :character  \n",
       " Median :1396   Mode  :character   Median :1.000   Mode  :character  \n",
       " Mean   :1420                      Mean   :1.262                     \n",
       " 3rd Qu.:1505                      3rd Qu.:2.000                     \n",
       " Max.   :6520                      Max.   :7.000                     \n",
       "    h_type2          hobby         job_stype     income_flg       \n",
       " Min.   :0.000   Min.   : 1.00   Min.   :   0   Length:49995      \n",
       " 1st Qu.:1.000   1st Qu.:17.00   1st Qu.:3050   Class :character  \n",
       " Median :3.000   Median :17.00   Median :4660   Mode  :character  \n",
       " Mean   :2.753   Mean   :13.93   Mean   :4926                     \n",
       " 3rd Qu.:4.000   3rd Qu.:17.00   3rd Qu.:7060                     \n",
       " Max.   :8.000   Max.   :17.00   Max.   :8201                     \n",
       "  car_stype           rel_type           dmnot_flg        tmnot_flg        \n",
       " Length:49995       Length:49995       Min.   :0.00000   Length:49995      \n",
       " Class :character   Class :character   1st Qu.:0.00000   Class :character  \n",
       " Mode  :character   Mode  :character   Median :0.00000   Mode  :character  \n",
       "                                       Mean   :0.00322                     \n",
       "                                       3rd Qu.:0.00000                     \n",
       "                                       Max.   :1.00000                     \n",
       "  pur_date1          pur_date2          pur_date3           ent_date        \n",
       " Length:49995       Length:49995       Length:49995       Length:49995      \n",
       " Class :character   Class :character   Class :character   Class :character  \n",
       " Mode  :character   Mode  :character   Mode  :character   Mode  :character  \n",
       "                                                                            \n",
       "                                                                            \n",
       "                                                                            \n",
       "   card_flg2          mail_flg        card_str       mail_zip1    \n",
       " Min.   :0.00000   Min.   :1.000   Min.   :110.0   Min.   :100.0  \n",
       " 1st Qu.:0.00000   1st Qu.:1.000   1st Qu.:210.0   1st Qu.:134.0  \n",
       " Median :0.00000   Median :1.000   Median :220.0   Median :135.0  \n",
       " Mean   :0.02212   Mean   :1.175   Mean   :230.4   Mean   :180.4  \n",
       " 3rd Qu.:0.00000   3rd Qu.:1.000   3rd Qu.:260.0   3rd Qu.:143.0  \n",
       " Max.   :2.00000   Max.   :2.000   Max.   :410.0   Max.   :487.0  \n",
       "   mail_zip2      home_zip1          home_zip2          work_zip1        \n",
       " Min.   : 10.0   Length:49995       Length:49995       Length:49995      \n",
       " 1st Qu.:759.0   Class :character   Class :character   Class :character  \n",
       " Median :806.0   Mode  :character   Mode  :character   Mode  :character  \n",
       " Mean   :761.4                                                           \n",
       " 3rd Qu.:857.0                                                           \n",
       " Max.   :999.0                                                           \n",
       "  work_zip2           cus_stype        ncus_stype       m_str1         \n",
       " Length:49995       Min.   : 1.000   Min.   : 1.00   Length:49995      \n",
       " Class :character   1st Qu.: 7.000   1st Qu.: 6.00   Class :character  \n",
       " Mode  :character   Median : 9.000   Median : 9.00   Mode  :character  \n",
       "                    Mean   : 8.073   Mean   : 8.26                     \n",
       "                    3rd Qu.:10.000   3rd Qu.:11.00                     \n",
       "                    Max.   :12.000   Max.   :15.00                     \n",
       "    m_time1         autopat        billnot_flg         fml_cnt      \n",
       " Min.   :-1.00   Min.   :0.0000   Min.   :0.00000   Min.   :0.0000  \n",
       " 1st Qu.:27.00   1st Qu.:0.0000   1st Qu.:0.00000   1st Qu.:0.0000  \n",
       " Median :32.00   Median :1.0000   Median :0.00000   Median :0.0000  \n",
       " Mean   :30.03   Mean   :0.6258   Mean   :0.00034   Mean   :0.2525  \n",
       " 3rd Qu.:36.00   3rd Qu.:1.0000   3rd Qu.:0.00000   3rd Qu.:0.0000  \n",
       " Max.   :42.00   Max.   :4.0000   Max.   :1.00000   Max.   :5.0000  \n",
       "     rf_amt              rf_cnt           buy_brd           visits      \n",
       " Min.   :-85353770   Min.   :  0.000   Min.   :  1.00   Min.   :  1.00  \n",
       " 1st Qu.:  -437484   1st Qu.:  0.000   1st Qu.:  7.00   1st Qu.:  6.00  \n",
       " Median :   -66000   Median :  1.000   Median : 13.00   Median : 12.00  \n",
       " Mean   :  -527526   Mean   :  2.319   Mean   : 17.53   Mean   : 17.98  \n",
       " 3rd Qu.:        0   3rd Qu.:  3.000   3rd Qu.: 24.00   3rd Qu.: 23.00  \n",
       " Max.   :        0   Max.   :137.000   Max.   :188.00   Max.   :249.00  \n",
       "      API               NPPV            wk_amt              we_amt         \n",
       " Min.   :  1.458   Min.   : 1.000   Min.   :-41934209   Min.   :-22470297  \n",
       " 1st Qu.: 15.783   1st Qu.: 1.417   1st Qu.:   299434   1st Qu.:   178970  \n",
       " Median : 30.250   Median : 1.741   Median :   907000   Median :   623200  \n",
       " Mean   : 57.524   Mean   : 1.850   Mean   :  1962638   Mean   :  1328810  \n",
       " 3rd Qu.: 60.500   3rd Qu.: 2.143   3rd Qu.:  2280016   3rd Qu.:  1597918  \n",
       " Max.   :363.000   Max.   :10.000   Max.   : 95401182   Max.   : 75254189  \n",
       "    wk_pat               age            agegrp          amt12          \n",
       " Length:49995       Min.   :10.00   Min.   :10.00   Min.   :-10805201  \n",
       " Class :character   1st Qu.:29.00   1st Qu.:20.00   1st Qu.:   690080  \n",
       " Mode  :character   Median :36.00   Median :30.00   Median :  1733670  \n",
       "                    Mean   :36.42   Mean   :31.54   Mean   :  3291448  \n",
       "                    3rd Qu.:41.00   3rd Qu.:40.00   3rd Qu.:  3905844  \n",
       "                    Max.   :95.00   Max.   :70.00   Max.   :114790147  \n",
       "     nop12             amt6               nop6             amt3         \n",
       " Min.   :  1.00   Min.   :-4362799   Min.   :  0.00   Min.   :-8331550  \n",
       " 1st Qu.: 10.00   1st Qu.:  257940   1st Qu.:  4.00   1st Qu.:   63514  \n",
       " Median : 21.00   Median :  807580   Median : 10.00   Median :  335010  \n",
       " Mean   : 34.53   Mean   : 1667238   Mean   : 16.76   Mean   :  807632  \n",
       " 3rd Qu.: 44.00   3rd Qu.: 1981376   3rd Qu.: 22.00   3rd Qu.:  956800  \n",
       " Max.   :672.00   Max.   :82464008   Max.   :337.00   Max.   :66231666  \n",
       "      nop3        \n",
       " Min.   :  0.000  \n",
       " 1st Qu.:  1.000  \n",
       " Median :  5.000  \n",
       " Mean   :  8.561  \n",
       " 3rd Qu.: 11.000  \n",
       " Max.   :189.000  "
      ]
     },
     "metadata": {},
     "output_type": "display_data"
    }
   ],
   "source": [
    "summary(custsig)"
   ]
  },
  {
   "cell_type": "markdown",
   "metadata": {},
   "source": [
    "# 팀프로젝트 (until 10/08)"
   ]
  },
  {
   "cell_type": "markdown",
   "metadata": {},
   "source": [
    "<img src=\"./photo/13.PNG\">"
   ]
  }
 ],
 "metadata": {
  "anaconda-cloud": {},
  "kernelspec": {
   "display_name": "R 3.3",
   "language": "R",
   "name": "ir33"
  },
  "language_info": {
   "codemirror_mode": "r",
   "file_extension": ".r",
   "mimetype": "text/x-r-source",
   "name": "R",
   "pygments_lexer": "r",
   "version": "3.3.1"
  }
 },
 "nbformat": 4,
 "nbformat_minor": 1
}
