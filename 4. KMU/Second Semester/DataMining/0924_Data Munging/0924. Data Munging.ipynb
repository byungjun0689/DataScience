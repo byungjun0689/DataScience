{
 "cells": [
  {
   "cell_type": "markdown",
   "metadata": {},
   "source": [
    "# Data Munging\n",
    "\n",
    "## Type of Data Munging\n",
    "<img src=\"./photo/1.PNG\" width=\"500\">\n",
    "<img src=\"./photo/2.PNG\" width=\"700\">"
   ]
  },
  {
   "cell_type": "code",
   "execution_count": 1,
   "metadata": {
    "collapsed": false
   },
   "outputs": [
    {
     "name": "stderr",
     "output_type": "stream",
     "text": [
      "Installing package into 'C:/Users/byung/Documents/R/win-library/3.3'\n",
      "(as 'lib' is unspecified)\n"
     ]
    },
    {
     "name": "stdout",
     "output_type": "stream",
     "text": [
      "package 'dplyr' successfully unpacked and MD5 sums checked\n",
      "\n",
      "The downloaded binary packages are in\n",
      "\tC:\\Users\\byung\\AppData\\Local\\Temp\\RtmpO4H1HS\\downloaded_packages\n"
     ]
    },
    {
     "name": "stderr",
     "output_type": "stream",
     "text": [
      "\n",
      "Attaching package: 'dplyr'\n",
      "\n",
      "The following objects are masked from 'package:stats':\n",
      "\n",
      "    filter, lag\n",
      "\n",
      "The following objects are masked from 'package:base':\n",
      "\n",
      "    intersect, setdiff, setequal, union\n",
      "\n"
     ]
    }
   ],
   "source": [
    "install.packages(\"dplyr\", repos = \"http://cran.us.r-project.org\")"
   ]
  },
  {
   "cell_type": "code",
   "execution_count": 1,
   "metadata": {
    "collapsed": false
   },
   "outputs": [
    {
     "name": "stderr",
     "output_type": "stream",
     "text": [
      "\n",
      "Attaching package: 'dplyr'\n",
      "\n",
      "The following objects are masked from 'package:stats':\n",
      "\n",
      "    filter, lag\n",
      "\n",
      "The following objects are masked from 'package:base':\n",
      "\n",
      "    intersect, setdiff, setequal, union\n",
      "\n"
     ]
    }
   ],
   "source": [
    "library(dplyr)"
   ]
  },
  {
   "cell_type": "code",
   "execution_count": 11,
   "metadata": {
    "collapsed": false
   },
   "outputs": [
    {
     "data": {
      "text/html": [
       "<table>\n",
       "<thead><tr><th></th><th scope=col>ID</th><th scope=col>Exam1</th><th scope=col>Exam2</th><th scope=col>Quiz</th></tr></thead>\n",
       "<tbody>\n",
       "\t<tr><th scope=row>1</th><td>1.0</td><td>3.3</td><td>2.0</td><td>3.7</td></tr>\n",
       "\t<tr><th scope=row>2</th><td>2</td><td>4</td><td>4</td><td>4</td></tr>\n",
       "\t<tr><th scope=row>3</th><td>3.0</td><td>2.3</td><td>0.0</td><td>3.3</td></tr>\n",
       "\t<tr><th scope=row>4</th><td>4.0</td><td>2.2</td><td>1.0</td><td>3.3</td></tr>\n",
       "\t<tr><th scope=row>5</th><td>5.0</td><td>3.1</td><td>1.2</td><td>3.9</td></tr>\n",
       "</tbody>\n",
       "</table>\n"
      ],
      "text/latex": [
       "\\begin{tabular}{r|llll}\n",
       "  & ID & Exam1 & Exam2 & Quiz\\\\\n",
       "\\hline\n",
       "\t1 & 1.0 & 3.3 & 2.0 & 3.7\\\\\n",
       "\t2 & 2 & 4 & 4 & 4\\\\\n",
       "\t3 & 3.0 & 2.3 & 0.0 & 3.3\\\\\n",
       "\t4 & 4.0 & 2.2 & 1.0 & 3.3\\\\\n",
       "\t5 & 5.0 & 3.1 & 1.2 & 3.9\\\\\n",
       "\\end{tabular}\n"
      ],
      "text/plain": [
       "  ID Exam1 Exam2 Quiz\n",
       "1  1   3.3   2.0  3.7\n",
       "2  2   4.0   4.0  4.0\n",
       "3  3   2.3   0.0  3.3\n",
       "4  4   2.2   1.0  3.3\n",
       "5  5   3.1   1.2  3.9"
      ]
     },
     "metadata": {},
     "output_type": "display_data"
    }
   ],
   "source": [
    "a <- 1:5\n",
    "b <- c(3.3,4,2.3,2.2,3.1)\n",
    "c <- c(2,4,0,1,1.2)\n",
    "d <- c(3.7,4,3.3,3.3,3.9)\n",
    "\n",
    "exam1 <- data.frame(ID=a,Exam1=b,Exam2=c,Quiz=d)\n",
    "exam1\n",
    "\n",
    "write.csv(exam1,\"exam1.csv\")"
   ]
  },
  {
   "cell_type": "markdown",
   "metadata": {},
   "source": [
    "## Selects a subset of records based on a specified condition"
   ]
  },
  {
   "cell_type": "code",
   "execution_count": 5,
   "metadata": {
    "collapsed": false
   },
   "outputs": [
    {
     "data": {
      "text/html": [
       "<table>\n",
       "<thead><tr><th></th><th scope=col>ID</th><th scope=col>Exam1</th><th scope=col>Exam2</th><th scope=col>Quiz</th></tr></thead>\n",
       "<tbody>\n",
       "\t<tr><th scope=row>1</th><td>1.0</td><td>3.3</td><td>2.0</td><td>3.7</td></tr>\n",
       "\t<tr><th scope=row>2</th><td>4.0</td><td>2.2</td><td>1.0</td><td>3.3</td></tr>\n",
       "</tbody>\n",
       "</table>\n"
      ],
      "text/latex": [
       "\\begin{tabular}{r|llll}\n",
       "  & ID & Exam1 & Exam2 & Quiz\\\\\n",
       "\\hline\n",
       "\t1 & 1.0 & 3.3 & 2.0 & 3.7\\\\\n",
       "\t2 & 4.0 & 2.2 & 1.0 & 3.3\\\\\n",
       "\\end{tabular}\n"
      ],
      "text/plain": [
       "  ID Exam1 Exam2 Quiz\n",
       "1  1   3.3     2  3.7\n",
       "2  4   2.2     1  3.3"
      ]
     },
     "metadata": {},
     "output_type": "display_data"
    }
   ],
   "source": [
    "filter(exam1, Exam2 >= 1 & Quiz < 3.9)"
   ]
  },
  {
   "cell_type": "code",
   "execution_count": 6,
   "metadata": {
    "collapsed": false
   },
   "outputs": [
    {
     "data": {
      "text/html": [
       "<table>\n",
       "<thead><tr><th></th><th scope=col>ID</th><th scope=col>Exam1</th><th scope=col>Exam2</th><th scope=col>Quiz</th></tr></thead>\n",
       "<tbody>\n",
       "\t<tr><th scope=row>1</th><td>1.0</td><td>3.3</td><td>2.0</td><td>3.7</td></tr>\n",
       "\t<tr><th scope=row>2</th><td>4.0</td><td>2.2</td><td>1.0</td><td>3.3</td></tr>\n",
       "</tbody>\n",
       "</table>\n"
      ],
      "text/latex": [
       "\\begin{tabular}{r|llll}\n",
       "  & ID & Exam1 & Exam2 & Quiz\\\\\n",
       "\\hline\n",
       "\t1 & 1.0 & 3.3 & 2.0 & 3.7\\\\\n",
       "\t2 & 4.0 & 2.2 & 1.0 & 3.3\\\\\n",
       "\\end{tabular}\n"
      ],
      "text/plain": [
       "  ID Exam1 Exam2 Quiz\n",
       "1  1   3.3     2  3.7\n",
       "2  4   2.2     1  3.3"
      ]
     },
     "metadata": {},
     "output_type": "display_data"
    }
   ],
   "source": [
    "filter(exam1, Exam2 >=1, Quiz < 3.9)"
   ]
  },
  {
   "cell_type": "markdown",
   "metadata": {},
   "source": [
    " - Exam1과 Exam 둘 다 평균 이상인 학생은? "
   ]
  },
  {
   "cell_type": "code",
   "execution_count": 9,
   "metadata": {
    "collapsed": false
   },
   "outputs": [
    {
     "data": {
      "text/html": [
       "2.98"
      ],
      "text/latex": [
       "2.98"
      ],
      "text/markdown": [
       "2.98"
      ],
      "text/plain": [
       "[1] 2.98"
      ]
     },
     "metadata": {},
     "output_type": "display_data"
    },
    {
     "data": {
      "text/html": [
       "1.64"
      ],
      "text/latex": [
       "1.64"
      ],
      "text/markdown": [
       "1.64"
      ],
      "text/plain": [
       "[1] 1.64"
      ]
     },
     "metadata": {},
     "output_type": "display_data"
    },
    {
     "data": {
      "text/html": [
       "<table>\n",
       "<thead><tr><th></th><th scope=col>ID</th><th scope=col>Exam1</th><th scope=col>Exam2</th><th scope=col>Quiz</th></tr></thead>\n",
       "<tbody>\n",
       "\t<tr><th scope=row>1</th><td>1.0</td><td>3.3</td><td>2.0</td><td>3.7</td></tr>\n",
       "\t<tr><th scope=row>2</th><td>2</td><td>4</td><td>4</td><td>4</td></tr>\n",
       "</tbody>\n",
       "</table>\n"
      ],
      "text/latex": [
       "\\begin{tabular}{r|llll}\n",
       "  & ID & Exam1 & Exam2 & Quiz\\\\\n",
       "\\hline\n",
       "\t1 & 1.0 & 3.3 & 2.0 & 3.7\\\\\n",
       "\t2 & 2 & 4 & 4 & 4\\\\\n",
       "\\end{tabular}\n"
      ],
      "text/plain": [
       "  ID Exam1 Exam2 Quiz\n",
       "1  1   3.3     2  3.7\n",
       "2  2   4.0     4  4.0"
      ]
     },
     "metadata": {},
     "output_type": "display_data"
    }
   ],
   "source": [
    "mean(exam1$Exam1)\n",
    "mean(exam1$Exam2)\n",
    "filter(exam1, Exam1 >= mean(Exam1), Exam2 >= mean(Exam2))"
   ]
  },
  {
   "cell_type": "markdown",
   "metadata": {},
   "source": [
    "## Appends records from multiple inputs"
   ]
  },
  {
   "cell_type": "code",
   "execution_count": 13,
   "metadata": {
    "collapsed": false
   },
   "outputs": [
    {
     "data": {
      "text/html": [
       "<table>\n",
       "<thead><tr><th></th><th scope=col>ID</th><th scope=col>Exam1</th><th scope=col>Exam2</th><th scope=col>Quiz</th></tr></thead>\n",
       "<tbody>\n",
       "\t<tr><th scope=row>1</th><td>1.0</td><td>3.3</td><td>2.0</td><td>3.7</td></tr>\n",
       "\t<tr><th scope=row>2</th><td>2</td><td>4</td><td>4</td><td>4</td></tr>\n",
       "\t<tr><th scope=row>3</th><td>3.0</td><td>2.3</td><td>0.0</td><td>3.3</td></tr>\n",
       "\t<tr><th scope=row>4</th><td>4.0</td><td>2.2</td><td>1.0</td><td>3.3</td></tr>\n",
       "\t<tr><th scope=row>5</th><td>5.0</td><td>3.1</td><td>1.2</td><td>3.9</td></tr>\n",
       "\t<tr><th scope=row>6</th><td>6.0</td><td>3.5</td><td>1.5</td><td>3.5</td></tr>\n",
       "</tbody>\n",
       "</table>\n"
      ],
      "text/latex": [
       "\\begin{tabular}{r|llll}\n",
       "  & ID & Exam1 & Exam2 & Quiz\\\\\n",
       "\\hline\n",
       "\t1 & 1.0 & 3.3 & 2.0 & 3.7\\\\\n",
       "\t2 & 2 & 4 & 4 & 4\\\\\n",
       "\t3 & 3.0 & 2.3 & 0.0 & 3.3\\\\\n",
       "\t4 & 4.0 & 2.2 & 1.0 & 3.3\\\\\n",
       "\t5 & 5.0 & 3.1 & 1.2 & 3.9\\\\\n",
       "\t6 & 6.0 & 3.5 & 1.5 & 3.5\\\\\n",
       "\\end{tabular}\n"
      ],
      "text/plain": [
       "  ID Exam1 Exam2 Quiz\n",
       "1  1   3.3   2.0  3.7\n",
       "2  2   4.0   4.0  4.0\n",
       "3  3   2.3   0.0  3.3\n",
       "4  4   2.2   1.0  3.3\n",
       "5  5   3.1   1.2  3.9\n",
       "6  6   3.5   1.5  3.5"
      ]
     },
     "metadata": {},
     "output_type": "display_data"
    }
   ],
   "source": [
    "app <- c(6,3.5,1.5,3.5)\n",
    "rbind(exam1,app)"
   ]
  },
  {
   "cell_type": "markdown",
   "metadata": {},
   "source": [
    " - 변수 app의 값이 c(6,1)이라면?"
   ]
  },
  {
   "cell_type": "code",
   "execution_count": 14,
   "metadata": {
    "collapsed": false
   },
   "outputs": [
    {
     "data": {
      "text/html": [
       "<table>\n",
       "<thead><tr><th></th><th scope=col>ID</th><th scope=col>Exam1</th><th scope=col>Exam2</th><th scope=col>Quiz</th></tr></thead>\n",
       "<tbody>\n",
       "\t<tr><th scope=row>1</th><td>1.0</td><td>3.3</td><td>2.0</td><td>3.7</td></tr>\n",
       "\t<tr><th scope=row>2</th><td>2</td><td>4</td><td>4</td><td>4</td></tr>\n",
       "\t<tr><th scope=row>3</th><td>3.0</td><td>2.3</td><td>0.0</td><td>3.3</td></tr>\n",
       "\t<tr><th scope=row>4</th><td>4.0</td><td>2.2</td><td>1.0</td><td>3.3</td></tr>\n",
       "\t<tr><th scope=row>5</th><td>5.0</td><td>3.1</td><td>1.2</td><td>3.9</td></tr>\n",
       "\t<tr><th scope=row>6</th><td>6</td><td>1</td><td>6</td><td>1</td></tr>\n",
       "</tbody>\n",
       "</table>\n"
      ],
      "text/latex": [
       "\\begin{tabular}{r|llll}\n",
       "  & ID & Exam1 & Exam2 & Quiz\\\\\n",
       "\\hline\n",
       "\t1 & 1.0 & 3.3 & 2.0 & 3.7\\\\\n",
       "\t2 & 2 & 4 & 4 & 4\\\\\n",
       "\t3 & 3.0 & 2.3 & 0.0 & 3.3\\\\\n",
       "\t4 & 4.0 & 2.2 & 1.0 & 3.3\\\\\n",
       "\t5 & 5.0 & 3.1 & 1.2 & 3.9\\\\\n",
       "\t6 & 6 & 1 & 6 & 1\\\\\n",
       "\\end{tabular}\n"
      ],
      "text/plain": [
       "  ID Exam1 Exam2 Quiz\n",
       "1  1   3.3   2.0  3.7\n",
       "2  2   4.0   4.0  4.0\n",
       "3  3   2.3   0.0  3.3\n",
       "4  4   2.2   1.0  3.3\n",
       "5  5   3.1   1.2  3.9\n",
       "6  6   1.0   6.0  1.0"
      ]
     },
     "metadata": {},
     "output_type": "display_data"
    }
   ],
   "source": [
    "app <- c(6,1)\n",
    "rbind(exam1,app)"
   ]
  },
  {
   "cell_type": "markdown",
   "metadata": {},
   "source": [
    "## Reorders records according to the specified order criteria"
   ]
  },
  {
   "cell_type": "code",
   "execution_count": 16,
   "metadata": {
    "collapsed": false
   },
   "outputs": [
    {
     "data": {
      "text/html": [
       "<table>\n",
       "<thead><tr><th></th><th scope=col>ID</th><th scope=col>Exam1</th><th scope=col>Exam2</th><th scope=col>Quiz</th></tr></thead>\n",
       "<tbody>\n",
       "\t<tr><th scope=row>1</th><td>3.0</td><td>2.3</td><td>0.0</td><td>3.3</td></tr>\n",
       "\t<tr><th scope=row>2</th><td>4.0</td><td>2.2</td><td>1.0</td><td>3.3</td></tr>\n",
       "\t<tr><th scope=row>3</th><td>1.0</td><td>3.3</td><td>2.0</td><td>3.7</td></tr>\n",
       "\t<tr><th scope=row>4</th><td>5.0</td><td>3.1</td><td>1.2</td><td>3.9</td></tr>\n",
       "\t<tr><th scope=row>5</th><td>2</td><td>4</td><td>4</td><td>4</td></tr>\n",
       "</tbody>\n",
       "</table>\n"
      ],
      "text/latex": [
       "\\begin{tabular}{r|llll}\n",
       "  & ID & Exam1 & Exam2 & Quiz\\\\\n",
       "\\hline\n",
       "\t1 & 3.0 & 2.3 & 0.0 & 3.3\\\\\n",
       "\t2 & 4.0 & 2.2 & 1.0 & 3.3\\\\\n",
       "\t3 & 1.0 & 3.3 & 2.0 & 3.7\\\\\n",
       "\t4 & 5.0 & 3.1 & 1.2 & 3.9\\\\\n",
       "\t5 & 2 & 4 & 4 & 4\\\\\n",
       "\\end{tabular}\n"
      ],
      "text/plain": [
       "  ID Exam1 Exam2 Quiz\n",
       "1  3   2.3   0.0  3.3\n",
       "2  4   2.2   1.0  3.3\n",
       "3  1   3.3   2.0  3.7\n",
       "4  5   3.1   1.2  3.9\n",
       "5  2   4.0   4.0  4.0"
      ]
     },
     "metadata": {},
     "output_type": "display_data"
    }
   ],
   "source": [
    "arrange(exam1, Quiz) # arrange(exam1, desc(Quiz)) 내림차순"
   ]
  },
  {
   "cell_type": "code",
   "execution_count": 19,
   "metadata": {
    "collapsed": false
   },
   "outputs": [
    {
     "data": {
      "text/html": [
       "<table>\n",
       "<thead><tr><th></th><th scope=col>ID</th><th scope=col>Exam1</th><th scope=col>Exam2</th><th scope=col>Quiz</th></tr></thead>\n",
       "<tbody>\n",
       "\t<tr><th scope=row>1</th><td>4.0</td><td>2.2</td><td>1.0</td><td>3.3</td></tr>\n",
       "\t<tr><th scope=row>2</th><td>3.0</td><td>2.3</td><td>0.0</td><td>3.3</td></tr>\n",
       "\t<tr><th scope=row>3</th><td>1.0</td><td>3.3</td><td>2.0</td><td>3.7</td></tr>\n",
       "\t<tr><th scope=row>4</th><td>5.0</td><td>3.1</td><td>1.2</td><td>3.9</td></tr>\n",
       "\t<tr><th scope=row>5</th><td>2</td><td>4</td><td>4</td><td>4</td></tr>\n",
       "</tbody>\n",
       "</table>\n"
      ],
      "text/latex": [
       "\\begin{tabular}{r|llll}\n",
       "  & ID & Exam1 & Exam2 & Quiz\\\\\n",
       "\\hline\n",
       "\t1 & 4.0 & 2.2 & 1.0 & 3.3\\\\\n",
       "\t2 & 3.0 & 2.3 & 0.0 & 3.3\\\\\n",
       "\t3 & 1.0 & 3.3 & 2.0 & 3.7\\\\\n",
       "\t4 & 5.0 & 3.1 & 1.2 & 3.9\\\\\n",
       "\t5 & 2 & 4 & 4 & 4\\\\\n",
       "\\end{tabular}\n"
      ],
      "text/plain": [
       "  ID Exam1 Exam2 Quiz\n",
       "1  4   2.2   1.0  3.3\n",
       "2  3   2.3   0.0  3.3\n",
       "3  1   3.3   2.0  3.7\n",
       "4  5   3.1   1.2  3.9\n",
       "5  2   4.0   4.0  4.0"
      ]
     },
     "metadata": {},
     "output_type": "display_data"
    }
   ],
   "source": [
    "# Quiz와 Exam1 순서로 오름차순으로 정렬한다면?\n",
    "arrange(exam1, Quiz,Exam1)"
   ]
  },
  {
   "cell_type": "markdown",
   "metadata": {},
   "source": [
    "## Selects a random sample"
   ]
  },
  {
   "cell_type": "code",
   "execution_count": 22,
   "metadata": {
    "collapsed": false
   },
   "outputs": [
    {
     "data": {
      "text/html": [
       "<table>\n",
       "<thead><tr><th></th><th scope=col>ID</th><th scope=col>Exam1</th><th scope=col>Exam2</th><th scope=col>Quiz</th></tr></thead>\n",
       "<tbody>\n",
       "\t<tr><th scope=row>5</th><td>5.0</td><td>3.1</td><td>1.2</td><td>3.9</td></tr>\n",
       "\t<tr><th scope=row>3</th><td>3.0</td><td>2.3</td><td>0.0</td><td>3.3</td></tr>\n",
       "\t<tr><th scope=row>2</th><td>2</td><td>4</td><td>4</td><td>4</td></tr>\n",
       "</tbody>\n",
       "</table>\n"
      ],
      "text/latex": [
       "\\begin{tabular}{r|llll}\n",
       "  & ID & Exam1 & Exam2 & Quiz\\\\\n",
       "\\hline\n",
       "\t5 & 5.0 & 3.1 & 1.2 & 3.9\\\\\n",
       "\t3 & 3.0 & 2.3 & 0.0 & 3.3\\\\\n",
       "\t2 & 2 & 4 & 4 & 4\\\\\n",
       "\\end{tabular}\n"
      ],
      "text/plain": [
       "  ID Exam1 Exam2 Quiz\n",
       "5  5   3.1   1.2  3.9\n",
       "3  3   2.3   0.0  3.3\n",
       "2  2   4.0   4.0  4.0"
      ]
     },
     "metadata": {},
     "output_type": "display_data"
    }
   ],
   "source": [
    "sample_n(exam1, 3) # Random sampling with a fixed number"
   ]
  },
  {
   "cell_type": "code",
   "execution_count": 26,
   "metadata": {
    "collapsed": false
   },
   "outputs": [
    {
     "data": {
      "text/html": [
       "<table>\n",
       "<thead><tr><th></th><th scope=col>ID</th><th scope=col>Exam1</th><th scope=col>Exam2</th><th scope=col>Quiz</th></tr></thead>\n",
       "<tbody>\n",
       "\t<tr><th scope=row>4</th><td>4.0</td><td>2.2</td><td>1.0</td><td>3.3</td></tr>\n",
       "\t<tr><th scope=row>2</th><td>2</td><td>4</td><td>4</td><td>4</td></tr>\n",
       "</tbody>\n",
       "</table>\n"
      ],
      "text/latex": [
       "\\begin{tabular}{r|llll}\n",
       "  & ID & Exam1 & Exam2 & Quiz\\\\\n",
       "\\hline\n",
       "\t4 & 4.0 & 2.2 & 1.0 & 3.3\\\\\n",
       "\t2 & 2 & 4 & 4 & 4\\\\\n",
       "\\end{tabular}\n"
      ],
      "text/plain": [
       "  ID Exam1 Exam2 Quiz\n",
       "4  4   2.2     1  3.3\n",
       "2  2   4.0     4  4.0"
      ]
     },
     "metadata": {},
     "output_type": "display_data"
    }
   ],
   "source": [
    "sample_frac(exam1, 0.4) # Random sampling with a fixed fraction"
   ]
  },
  {
   "cell_type": "code",
   "execution_count": 28,
   "metadata": {
    "collapsed": false
   },
   "outputs": [
    {
     "data": {
      "text/html": [
       "<table>\n",
       "<thead><tr><th></th><th scope=col>ID</th><th scope=col>Exam1</th><th scope=col>Exam2</th><th scope=col>Quiz</th></tr></thead>\n",
       "<tbody>\n",
       "\t<tr><th scope=row>1</th><td>1.0</td><td>3.3</td><td>2.0</td><td>3.7</td></tr>\n",
       "\t<tr><th scope=row>3</th><td>3.0</td><td>2.3</td><td>0.0</td><td>3.3</td></tr>\n",
       "\t<tr><th scope=row>5</th><td>5.0</td><td>3.1</td><td>1.2</td><td>3.9</td></tr>\n",
       "</tbody>\n",
       "</table>\n"
      ],
      "text/latex": [
       "\\begin{tabular}{r|llll}\n",
       "  & ID & Exam1 & Exam2 & Quiz\\\\\n",
       "\\hline\n",
       "\t1 & 1.0 & 3.3 & 2.0 & 3.7\\\\\n",
       "\t3 & 3.0 & 2.3 & 0.0 & 3.3\\\\\n",
       "\t5 & 5.0 & 3.1 & 1.2 & 3.9\\\\\n",
       "\\end{tabular}\n"
      ],
      "text/plain": [
       "  ID Exam1 Exam2 Quiz\n",
       "1  1   3.3   2.0  3.7\n",
       "3  3   2.3   0.0  3.3\n",
       "5  5   3.1   1.2  3.9"
      ]
     },
     "metadata": {},
     "output_type": "display_data"
    }
   ],
   "source": [
    "exam1[as.logical((1:nrow(exam1))%%2),] # 1-in-n sampling"
   ]
  },
  {
   "cell_type": "markdown",
   "metadata": {},
   "source": [
    "## Summarizes information on groups of records"
   ]
  },
  {
   "cell_type": "code",
   "execution_count": 4,
   "metadata": {
    "collapsed": true
   },
   "outputs": [],
   "source": [
    "exam1$Gender <- c(\"남\",\"여\",\"남\",\"여\",\"남\")"
   ]
  },
  {
   "cell_type": "code",
   "execution_count": 5,
   "metadata": {
    "collapsed": true
   },
   "outputs": [],
   "source": [
    "write.csv(exam1,\"exam3.csv\")"
   ]
  },
  {
   "cell_type": "code",
   "execution_count": 6,
   "metadata": {
    "collapsed": false
   },
   "outputs": [
    {
     "data": {
      "text/html": [
       "<table>\n",
       "<thead><tr><th></th><th scope=col>Gender</th><th scope=col>exam1</th><th scope=col>quiz</th></tr></thead>\n",
       "<tbody>\n",
       "\t<tr><th scope=row>1</th><td>남 </td><td>2.9</td><td>3.7</td></tr>\n",
       "\t<tr><th scope=row>2</th><td>여  </td><td>3.1 </td><td>3.65</td></tr>\n",
       "</tbody>\n",
       "</table>\n"
      ],
      "text/latex": [
       "\\begin{tabular}{r|lll}\n",
       "  & Gender & exam1 & quiz\\\\\n",
       "\\hline\n",
       "\t1 & 남  & 2.9 & 3.7\\\\\n",
       "\t2 & 여   & 3.1  & 3.65\\\\\n",
       "\\end{tabular}\n"
      ],
      "text/plain": [
       "  Gender exam1 quiz\n",
       "1     남   2.9 3.70\n",
       "2     여   3.1 3.65"
      ]
     },
     "metadata": {},
     "output_type": "display_data"
    }
   ],
   "source": [
    "by_gender = group_by(exam1, Gender)\n",
    "summarise(by_gender, exam1=mean(Exam1), quiz=median(Quiz))"
   ]
  },
  {
   "cell_type": "code",
   "execution_count": 7,
   "metadata": {
    "collapsed": false
   },
   "outputs": [
    {
     "data": {
      "text/html": [
       "<table>\n",
       "<thead><tr><th></th><th scope=col>Gender</th><th scope=col>Exam1_min</th><th scope=col>Exam2_min</th><th scope=col>Quiz_min</th><th scope=col>Exam1_max</th><th scope=col>Exam2_max</th><th scope=col>Quiz_max</th></tr></thead>\n",
       "<tbody>\n",
       "\t<tr><th scope=row>1</th><td>남 </td><td>2.3</td><td>0  </td><td>3.3</td><td>3.3</td><td>2  </td><td>3.9</td></tr>\n",
       "\t<tr><th scope=row>2</th><td>여 </td><td>2.2</td><td>1  </td><td>3.3</td><td>4  </td><td>4  </td><td>4  </td></tr>\n",
       "</tbody>\n",
       "</table>\n"
      ],
      "text/latex": [
       "\\begin{tabular}{r|lllllll}\n",
       "  & Gender & Exam1\\_min & Exam2\\_min & Quiz\\_min & Exam1\\_max & Exam2\\_max & Quiz\\_max\\\\\n",
       "\\hline\n",
       "\t1 & 남  & 2.3 & 0   & 3.3 & 3.3 & 2   & 3.9\\\\\n",
       "\t2 & 여  & 2.2 & 1   & 3.3 & 4   & 4   & 4  \\\\\n",
       "\\end{tabular}\n"
      ],
      "text/plain": [
       "  Gender Exam1_min Exam2_min Quiz_min Exam1_max Exam2_max Quiz_max\n",
       "1     남       2.3         0      3.3       3.3         2      3.9\n",
       "2     여       2.2         1      3.3       4.0         4      4.0"
      ]
     },
     "metadata": {},
     "output_type": "display_data"
    }
   ],
   "source": [
    "exam1 %>% group_by(Gender) %>% summarise_each(funs(min,max), Exam1, Exam2, Quiz)"
   ]
  },
  {
   "cell_type": "markdown",
   "metadata": {},
   "source": [
    "## Includes records with distinct values in specified fields"
   ]
  },
  {
   "cell_type": "code",
   "execution_count": 40,
   "metadata": {
    "collapsed": false
   },
   "outputs": [
    {
     "data": {
      "text/html": [
       "<table>\n",
       "<thead><tr><th></th><th scope=col>ID</th><th scope=col>Exam1</th><th scope=col>Exam2</th><th scope=col>Quiz</th><th scope=col>Gender</th></tr></thead>\n",
       "<tbody>\n",
       "\t<tr><th scope=row>1</th><td>1  </td><td>3.3</td><td>2  </td><td>3.7</td><td>남 </td></tr>\n",
       "\t<tr><th scope=row>2</th><td>2 </td><td>4 </td><td>4 </td><td>4 </td><td>여</td></tr>\n",
       "\t<tr><th scope=row>3</th><td>3  </td><td>2.3</td><td>0  </td><td>3.3</td><td>남 </td></tr>\n",
       "\t<tr><th scope=row>4</th><td>5  </td><td>3.1</td><td>1.2</td><td>3.9</td><td>남 </td></tr>\n",
       "</tbody>\n",
       "</table>\n"
      ],
      "text/latex": [
       "\\begin{tabular}{r|lllll}\n",
       "  & ID & Exam1 & Exam2 & Quiz & Gender\\\\\n",
       "\\hline\n",
       "\t1 & 1   & 3.3 & 2   & 3.7 & 남 \\\\\n",
       "\t2 & 2  & 4  & 4  & 4  & 여\\\\\n",
       "\t3 & 3   & 2.3 & 0   & 3.3 & 남 \\\\\n",
       "\t4 & 5   & 3.1 & 1.2 & 3.9 & 남 \\\\\n",
       "\\end{tabular}\n"
      ],
      "text/plain": [
       "  ID Exam1 Exam2 Quiz Gender\n",
       "1  1   3.3   2.0  3.7     남\n",
       "2  2   4.0   4.0  4.0     여\n",
       "3  3   2.3   0.0  3.3     남\n",
       "4  5   3.1   1.2  3.9     남"
      ]
     },
     "metadata": {},
     "output_type": "display_data"
    }
   ],
   "source": [
    "filter(exam1,!duplicated(Quiz))"
   ]
  },
  {
   "cell_type": "code",
   "execution_count": 42,
   "metadata": {
    "collapsed": false
   },
   "outputs": [
    {
     "data": {
      "text/html": [
       "<table>\n",
       "<thead><tr><th></th><th scope=col>Quiz</th></tr></thead>\n",
       "<tbody>\n",
       "\t<tr><th scope=row>1</th><td>3.7</td></tr>\n",
       "\t<tr><th scope=row>2</th><td>4</td></tr>\n",
       "\t<tr><th scope=row>3</th><td>3.3</td></tr>\n",
       "\t<tr><th scope=row>4</th><td>3.9</td></tr>\n",
       "</tbody>\n",
       "</table>\n"
      ],
      "text/latex": [
       "\\begin{tabular}{r|l}\n",
       "  & Quiz\\\\\n",
       "\\hline\n",
       "\t1 & 3.7\\\\\n",
       "\t2 & 4\\\\\n",
       "\t3 & 3.3\\\\\n",
       "\t4 & 3.9\\\\\n",
       "\\end{tabular}\n"
      ],
      "text/plain": [
       "  Quiz\n",
       "1  3.7\n",
       "2  4.0\n",
       "3  3.3\n",
       "4  3.9"
      ]
     },
     "metadata": {},
     "output_type": "display_data"
    }
   ],
   "source": [
    "distinct(exam1, Quiz) # return unique values"
   ]
  },
  {
   "cell_type": "markdown",
   "metadata": {},
   "source": [
    "## Allows new fields to be generated based on existing fields"
   ]
  },
  {
   "cell_type": "code",
   "execution_count": 44,
   "metadata": {
    "collapsed": false
   },
   "outputs": [
    {
     "data": {
      "text/html": [
       "<table>\n",
       "<thead><tr><th></th><th scope=col>ID</th><th scope=col>Exam1</th><th scope=col>Exam2</th><th scope=col>Quiz</th><th scope=col>Gender</th><th scope=col>ExamSum</th><th scope=col>ExamMean</th></tr></thead>\n",
       "<tbody>\n",
       "\t<tr><th scope=row>1</th><td>1   </td><td>3.3 </td><td>2   </td><td>3.7 </td><td>남  </td><td>5.3 </td><td>2.65</td></tr>\n",
       "\t<tr><th scope=row>2</th><td>2 </td><td>4 </td><td>4 </td><td>4 </td><td>여</td><td>8 </td><td>4 </td></tr>\n",
       "\t<tr><th scope=row>3</th><td>3   </td><td>2.3 </td><td>0   </td><td>3.3 </td><td>남  </td><td>2.3 </td><td>1.15</td></tr>\n",
       "\t<tr><th scope=row>4</th><td>4  </td><td>2.2</td><td>1  </td><td>3.3</td><td>여 </td><td>3.2</td><td>1.6</td></tr>\n",
       "\t<tr><th scope=row>5</th><td>5   </td><td>3.1 </td><td>1.2 </td><td>3.9 </td><td>남  </td><td>4.3 </td><td>2.15</td></tr>\n",
       "</tbody>\n",
       "</table>\n"
      ],
      "text/latex": [
       "\\begin{tabular}{r|lllllll}\n",
       "  & ID & Exam1 & Exam2 & Quiz & Gender & ExamSum & ExamMean\\\\\n",
       "\\hline\n",
       "\t1 & 1    & 3.3  & 2    & 3.7  & 남   & 5.3  & 2.65\\\\\n",
       "\t2 & 2  & 4  & 4  & 4  & 여 & 8  & 4 \\\\\n",
       "\t3 & 3    & 2.3  & 0    & 3.3  & 남   & 2.3  & 1.15\\\\\n",
       "\t4 & 4   & 2.2 & 1   & 3.3 & 여  & 3.2 & 1.6\\\\\n",
       "\t5 & 5    & 3.1  & 1.2  & 3.9  & 남   & 4.3  & 2.15\\\\\n",
       "\\end{tabular}\n"
      ],
      "text/plain": [
       "  ID Exam1 Exam2 Quiz Gender ExamSum ExamMean\n",
       "1  1   3.3   2.0  3.7     남     5.3     2.65\n",
       "2  2   4.0   4.0  4.0     여     8.0     4.00\n",
       "3  3   2.3   0.0  3.3     남     2.3     1.15\n",
       "4  4   2.2   1.0  3.3     여     3.2     1.60\n",
       "5  5   3.1   1.2  3.9     남     4.3     2.15"
      ]
     },
     "metadata": {},
     "output_type": "display_data"
    }
   ],
   "source": [
    "exam1 <- mutate(exam1, ExamSum=Exam1+Exam2, ExamMean=ExamSum/2)\n",
    "exam1"
   ]
  },
  {
   "cell_type": "markdown",
   "metadata": {},
   "source": [
    "## Allows fields to be renamed or removed"
   ]
  },
  {
   "cell_type": "code",
   "execution_count": 46,
   "metadata": {
    "collapsed": false
   },
   "outputs": [
    {
     "data": {
      "text/html": [
       "<table>\n",
       "<thead><tr><th></th><th scope=col>ID</th><th scope=col>Exam1</th><th scope=col>Exam2</th></tr></thead>\n",
       "<tbody>\n",
       "\t<tr><th scope=row>1</th><td>1.0</td><td>3.3</td><td>2.0</td></tr>\n",
       "\t<tr><th scope=row>2</th><td>2</td><td>4</td><td>4</td></tr>\n",
       "\t<tr><th scope=row>3</th><td>3.0</td><td>2.3</td><td>0.0</td></tr>\n",
       "\t<tr><th scope=row>4</th><td>4.0</td><td>2.2</td><td>1.0</td></tr>\n",
       "\t<tr><th scope=row>5</th><td>5.0</td><td>3.1</td><td>1.2</td></tr>\n",
       "</tbody>\n",
       "</table>\n"
      ],
      "text/latex": [
       "\\begin{tabular}{r|lll}\n",
       "  & ID & Exam1 & Exam2\\\\\n",
       "\\hline\n",
       "\t1 & 1.0 & 3.3 & 2.0\\\\\n",
       "\t2 & 2 & 4 & 4\\\\\n",
       "\t3 & 3.0 & 2.3 & 0.0\\\\\n",
       "\t4 & 4.0 & 2.2 & 1.0\\\\\n",
       "\t5 & 5.0 & 3.1 & 1.2\\\\\n",
       "\\end{tabular}\n"
      ],
      "text/plain": [
       "  ID Exam1 Exam2\n",
       "1  1   3.3   2.0\n",
       "2  2   4.0   4.0\n",
       "3  3   2.3   0.0\n",
       "4  4   2.2   1.0\n",
       "5  5   3.1   1.2"
      ]
     },
     "metadata": {},
     "output_type": "display_data"
    }
   ],
   "source": [
    "select(exam1, ID:Exam2)"
   ]
  },
  {
   "cell_type": "code",
   "execution_count": 53,
   "metadata": {
    "collapsed": false
   },
   "outputs": [
    {
     "ename": "ERROR",
     "evalue": "Error in eval(expr, envir, enclos): 객체 'ExamSum'를 찾을 수 없습니다\n",
     "output_type": "error",
     "traceback": [
      "Error in eval(expr, envir, enclos): 객체 'ExamSum'를 찾을 수 없습니다\nTraceback:\n",
      "1. select(exam1, -ExamSum, -ExamMean)",
      "2. select_(.data, .dots = lazyeval::lazy_dots(...))",
      "3. select_.data.frame(.data, .dots = lazyeval::lazy_dots(...))",
      "4. select_vars_(names(.data), dots)",
      "5. lazyeval::lazy_eval(args, names_list)",
      "6. lapply(x, lazy_eval, data = data)",
      "7. FUN(X[[i]], ...)",
      "8. eval(x$expr, data, x$env)",
      "9. eval(expr, envir, enclos)"
     ]
    }
   ],
   "source": [
    "exam1 <- select(exam1, -ExamSum, -ExamMean)\n",
    "exam1"
   ]
  },
  {
   "cell_type": "code",
   "execution_count": 55,
   "metadata": {
    "collapsed": false
   },
   "outputs": [
    {
     "data": {
      "text/html": [
       "<table>\n",
       "<thead><tr><th></th><th scope=col>id</th><th scope=col>ex1</th><th scope=col>ex2</th><th scope=col>quiz</th><th scope=col>Gender</th></tr></thead>\n",
       "<tbody>\n",
       "\t<tr><th scope=row>1</th><td>1  </td><td>3.3</td><td>2  </td><td>3.7</td><td>남 </td></tr>\n",
       "\t<tr><th scope=row>2</th><td>2 </td><td>4 </td><td>4 </td><td>4 </td><td>여</td></tr>\n",
       "\t<tr><th scope=row>3</th><td>3  </td><td>2.3</td><td>0  </td><td>3.3</td><td>남 </td></tr>\n",
       "\t<tr><th scope=row>4</th><td>4  </td><td>2.2</td><td>1  </td><td>3.3</td><td>여 </td></tr>\n",
       "\t<tr><th scope=row>5</th><td>5  </td><td>3.1</td><td>1.2</td><td>3.9</td><td>남 </td></tr>\n",
       "</tbody>\n",
       "</table>\n"
      ],
      "text/latex": [
       "\\begin{tabular}{r|lllll}\n",
       "  & id & ex1 & ex2 & quiz & Gender\\\\\n",
       "\\hline\n",
       "\t1 & 1   & 3.3 & 2   & 3.7 & 남 \\\\\n",
       "\t2 & 2  & 4  & 4  & 4  & 여\\\\\n",
       "\t3 & 3   & 2.3 & 0   & 3.3 & 남 \\\\\n",
       "\t4 & 4   & 2.2 & 1   & 3.3 & 여 \\\\\n",
       "\t5 & 5   & 3.1 & 1.2 & 3.9 & 남 \\\\\n",
       "\\end{tabular}\n"
      ],
      "text/plain": [
       "  id ex1 ex2 quiz Gender\n",
       "1  1 3.3 2.0  3.7     남\n",
       "2  2 4.0 4.0  4.0     여\n",
       "3  3 2.3 0.0  3.3     남\n",
       "4  4 2.2 1.0  3.3     여\n",
       "5  5 3.1 1.2  3.9     남"
      ]
     },
     "metadata": {},
     "output_type": "display_data"
    }
   ],
   "source": [
    "rename(exam1, id=ID, quiz = Quiz, ex1=Exam1, ex2=Exam2)"
   ]
  },
  {
   "cell_type": "markdown",
   "metadata": {},
   "source": [
    "## Changes the sort order of fields"
   ]
  },
  {
   "cell_type": "code",
   "execution_count": 56,
   "metadata": {
    "collapsed": false
   },
   "outputs": [
    {
     "data": {
      "text/html": [
       "<table>\n",
       "<thead><tr><th></th><th scope=col>ID</th><th scope=col>Quiz</th><th scope=col>Exam1</th><th scope=col>Exam2</th></tr></thead>\n",
       "<tbody>\n",
       "\t<tr><th scope=row>1</th><td>1.0</td><td>3.7</td><td>3.3</td><td>2.0</td></tr>\n",
       "\t<tr><th scope=row>2</th><td>2</td><td>4</td><td>4</td><td>4</td></tr>\n",
       "\t<tr><th scope=row>3</th><td>3.0</td><td>3.3</td><td>2.3</td><td>0.0</td></tr>\n",
       "\t<tr><th scope=row>4</th><td>4.0</td><td>3.3</td><td>2.2</td><td>1.0</td></tr>\n",
       "\t<tr><th scope=row>5</th><td>5.0</td><td>3.9</td><td>3.1</td><td>1.2</td></tr>\n",
       "</tbody>\n",
       "</table>\n"
      ],
      "text/latex": [
       "\\begin{tabular}{r|llll}\n",
       "  & ID & Quiz & Exam1 & Exam2\\\\\n",
       "\\hline\n",
       "\t1 & 1.0 & 3.7 & 3.3 & 2.0\\\\\n",
       "\t2 & 2 & 4 & 4 & 4\\\\\n",
       "\t3 & 3.0 & 3.3 & 2.3 & 0.0\\\\\n",
       "\t4 & 4.0 & 3.3 & 2.2 & 1.0\\\\\n",
       "\t5 & 5.0 & 3.9 & 3.1 & 1.2\\\\\n",
       "\\end{tabular}\n"
      ],
      "text/plain": [
       "  ID Quiz Exam1 Exam2\n",
       "1  1  3.7   3.3   2.0\n",
       "2  2  4.0   4.0   4.0\n",
       "3  3  3.3   2.3   0.0\n",
       "4  4  3.3   2.2   1.0\n",
       "5  5  3.9   3.1   1.2"
      ]
     },
     "metadata": {},
     "output_type": "display_data"
    }
   ],
   "source": [
    "select(exam1, ID, Quiz, Exam1:Exam2)"
   ]
  },
  {
   "cell_type": "markdown",
   "metadata": {},
   "source": [
    "## Allows values in existing fields to be replaced by new values"
   ]
  },
  {
   "cell_type": "code",
   "execution_count": 59,
   "metadata": {
    "collapsed": false
   },
   "outputs": [
    {
     "data": {
      "text/html": [
       "<table>\n",
       "<thead><tr><th></th><th scope=col>ID</th><th scope=col>Exam1</th><th scope=col>Exam2</th><th scope=col>Quiz</th><th scope=col>Gender</th><th scope=col>Extra</th></tr></thead>\n",
       "<tbody>\n",
       "\t<tr><th scope=row>1</th><td>1  </td><td>3.3</td><td>2  </td><td>3.7</td><td>남 </td><td>1  </td></tr>\n",
       "\t<tr><th scope=row>2</th><td>2 </td><td>4 </td><td>4 </td><td>4 </td><td>여</td><td>1 </td></tr>\n",
       "\t<tr><th scope=row>3</th><td>3  </td><td>2.3</td><td>0  </td><td>3.3</td><td>남 </td><td>NA </td></tr>\n",
       "\t<tr><th scope=row>4</th><td>4  </td><td>2.2</td><td>1  </td><td>3.3</td><td>여 </td><td>NA </td></tr>\n",
       "\t<tr><th scope=row>5</th><td>5  </td><td>3.1</td><td>1.2</td><td>3.9</td><td>남 </td><td>2  </td></tr>\n",
       "</tbody>\n",
       "</table>\n"
      ],
      "text/latex": [
       "\\begin{tabular}{r|llllll}\n",
       "  & ID & Exam1 & Exam2 & Quiz & Gender & Extra\\\\\n",
       "\\hline\n",
       "\t1 & 1   & 3.3 & 2   & 3.7 & 남  & 1  \\\\\n",
       "\t2 & 2  & 4  & 4  & 4  & 여 & 1 \\\\\n",
       "\t3 & 3   & 2.3 & 0   & 3.3 & 남  & NA \\\\\n",
       "\t4 & 4   & 2.2 & 1   & 3.3 & 여  & NA \\\\\n",
       "\t5 & 5   & 3.1 & 1.2 & 3.9 & 남  & 2  \\\\\n",
       "\\end{tabular}\n"
      ],
      "text/plain": [
       "  ID Exam1 Exam2 Quiz Gender Extra\n",
       "1  1   3.3   2.0  3.7     남     1\n",
       "2  2   4.0   4.0  4.0     여     1\n",
       "3  3   2.3   0.0  3.3     남    NA\n",
       "4  4   2.2   1.0  3.3     여    NA\n",
       "5  5   3.1   1.2  3.9     남     2"
      ]
     },
     "metadata": {},
     "output_type": "display_data"
    }
   ],
   "source": [
    "exam1$Extra <- c(1, 1, NA, NA, 2)\n",
    "exam1"
   ]
  },
  {
   "cell_type": "code",
   "execution_count": 62,
   "metadata": {
    "collapsed": false
   },
   "outputs": [
    {
     "data": {
      "text/html": [
       "<table>\n",
       "<thead><tr><th></th><th scope=col>ID</th><th scope=col>Exam1</th><th scope=col>Exam2</th><th scope=col>Quiz</th><th scope=col>Gender</th><th scope=col>Extra</th></tr></thead>\n",
       "<tbody>\n",
       "\t<tr><th scope=row>1</th><td>1  </td><td>3.3</td><td>2  </td><td>3.7</td><td>남 </td><td>1  </td></tr>\n",
       "\t<tr><th scope=row>2</th><td>2 </td><td>4 </td><td>4 </td><td>4 </td><td>여</td><td>1 </td></tr>\n",
       "\t<tr><th scope=row>3</th><td>3  </td><td>2.3</td><td>0  </td><td>3.3</td><td>남 </td><td>0  </td></tr>\n",
       "\t<tr><th scope=row>4</th><td>4  </td><td>2.2</td><td>1  </td><td>3.3</td><td>여 </td><td>0  </td></tr>\n",
       "\t<tr><th scope=row>5</th><td>5  </td><td>3.1</td><td>1.2</td><td>3.9</td><td>남 </td><td>2  </td></tr>\n",
       "</tbody>\n",
       "</table>\n"
      ],
      "text/latex": [
       "\\begin{tabular}{r|llllll}\n",
       "  & ID & Exam1 & Exam2 & Quiz & Gender & Extra\\\\\n",
       "\\hline\n",
       "\t1 & 1   & 3.3 & 2   & 3.7 & 남  & 1  \\\\\n",
       "\t2 & 2  & 4  & 4  & 4  & 여 & 1 \\\\\n",
       "\t3 & 3   & 2.3 & 0   & 3.3 & 남  & 0  \\\\\n",
       "\t4 & 4   & 2.2 & 1   & 3.3 & 여  & 0  \\\\\n",
       "\t5 & 5   & 3.1 & 1.2 & 3.9 & 남  & 2  \\\\\n",
       "\\end{tabular}\n"
      ],
      "text/plain": [
       "  ID Exam1 Exam2 Quiz Gender Extra\n",
       "1  1   3.3   2.0  3.7     남     1\n",
       "2  2   4.0   4.0  4.0     여     1\n",
       "3  3   2.3   0.0  3.3     남     0\n",
       "4  4   2.2   1.0  3.3     여     0\n",
       "5  5   3.1   1.2  3.9     남     2"
      ]
     },
     "metadata": {},
     "output_type": "display_data"
    }
   ],
   "source": [
    "exam1$Extra[is.na(exam1$Extra)] <- 0\n",
    "exam1"
   ]
  },
  {
   "cell_type": "markdown",
   "metadata": {},
   "source": [
    "## Merges records from multiple inputs"
   ]
  },
  {
   "cell_type": "code",
   "execution_count": 63,
   "metadata": {
    "collapsed": true
   },
   "outputs": [],
   "source": [
    "a <- 1:5\n",
    "b <- c(3.1,4,2.3,5.2,2.1)\n",
    "c <- c(2,4,0,1,1.2)\n",
    "d <- c(1.5,2,3.6,6.3,2.9)\n",
    "\n",
    "exam2 <- data.frame(CID=a,Exam3=b,Exam4=c,FinalExam=d)"
   ]
  },
  {
   "cell_type": "code",
   "execution_count": 64,
   "metadata": {
    "collapsed": false
   },
   "outputs": [
    {
     "data": {
      "text/html": [
       "<table>\n",
       "<thead><tr><th></th><th scope=col>ID</th><th scope=col>Exam1</th><th scope=col>Exam2</th><th scope=col>Quiz</th><th scope=col>Gender</th><th scope=col>Extra</th><th scope=col>Exam3</th><th scope=col>Exam4</th><th scope=col>FinalExam</th></tr></thead>\n",
       "<tbody>\n",
       "\t<tr><th scope=row>1</th><td>1  </td><td>3.3</td><td>2  </td><td>3.7</td><td>남 </td><td>1  </td><td>3.1</td><td>2  </td><td>1.5</td></tr>\n",
       "\t<tr><th scope=row>2</th><td>2 </td><td>4 </td><td>4 </td><td>4 </td><td>여</td><td>1 </td><td>4 </td><td>4 </td><td>2 </td></tr>\n",
       "\t<tr><th scope=row>3</th><td>3  </td><td>2.3</td><td>0  </td><td>3.3</td><td>남 </td><td>0  </td><td>2.3</td><td>0  </td><td>3.6</td></tr>\n",
       "\t<tr><th scope=row>4</th><td>4  </td><td>2.2</td><td>1  </td><td>3.3</td><td>여 </td><td>0  </td><td>5.2</td><td>1  </td><td>6.3</td></tr>\n",
       "\t<tr><th scope=row>5</th><td>5  </td><td>3.1</td><td>1.2</td><td>3.9</td><td>남 </td><td>2  </td><td>2.1</td><td>1.2</td><td>2.9</td></tr>\n",
       "</tbody>\n",
       "</table>\n"
      ],
      "text/latex": [
       "\\begin{tabular}{r|lllllllll}\n",
       "  & ID & Exam1 & Exam2 & Quiz & Gender & Extra & Exam3 & Exam4 & FinalExam\\\\\n",
       "\\hline\n",
       "\t1 & 1   & 3.3 & 2   & 3.7 & 남  & 1   & 3.1 & 2   & 1.5\\\\\n",
       "\t2 & 2  & 4  & 4  & 4  & 여 & 1  & 4  & 4  & 2 \\\\\n",
       "\t3 & 3   & 2.3 & 0   & 3.3 & 남  & 0   & 2.3 & 0   & 3.6\\\\\n",
       "\t4 & 4   & 2.2 & 1   & 3.3 & 여  & 0   & 5.2 & 1   & 6.3\\\\\n",
       "\t5 & 5   & 3.1 & 1.2 & 3.9 & 남  & 2   & 2.1 & 1.2 & 2.9\\\\\n",
       "\\end{tabular}\n"
      ],
      "text/plain": [
       "  ID Exam1 Exam2 Quiz Gender Extra Exam3 Exam4 FinalExam\n",
       "1  1   3.3   2.0  3.7     남     1   3.1   2.0       1.5\n",
       "2  2   4.0   4.0  4.0     여     1   4.0   4.0       2.0\n",
       "3  3   2.3   0.0  3.3     남     0   2.3   0.0       3.6\n",
       "4  4   2.2   1.0  3.3     여     0   5.2   1.0       6.3\n",
       "5  5   3.1   1.2  3.9     남     2   2.1   1.2       2.9"
      ]
     },
     "metadata": {},
     "output_type": "display_data"
    }
   ],
   "source": [
    "merge(exam1, exam2, by.x=\"ID\", by.y=\"CID\")"
   ]
  },
  {
   "cell_type": "markdown",
   "metadata": {},
   "source": [
    "## Transposes records to fields and fields to records"
   ]
  },
  {
   "cell_type": "code",
   "execution_count": 66,
   "metadata": {
    "collapsed": false
   },
   "outputs": [
    {
     "data": {
      "text/html": [
       "<table>\n",
       "<tbody>\n",
       "\t<tr><th scope=row>ID</th><td>1</td><td>2</td><td>3</td><td>4</td><td>5</td></tr>\n",
       "\t<tr><th scope=row>Exam1</th><td>3.3</td><td>4.0</td><td>2.3</td><td>2.2</td><td>3.1</td></tr>\n",
       "\t<tr><th scope=row>Exam2</th><td>2.0</td><td>4.0</td><td>0.0</td><td>1.0</td><td>1.2</td></tr>\n",
       "\t<tr><th scope=row>Quiz</th><td>3.7</td><td>4.0</td><td>3.3</td><td>3.3</td><td>3.9</td></tr>\n",
       "\t<tr><th scope=row>Gender</th><td>남</td><td>여</td><td>남</td><td>여</td><td>남</td></tr>\n",
       "\t<tr><th scope=row>Extra</th><td>1</td><td>1</td><td>0</td><td>0</td><td>2</td></tr>\n",
       "</tbody>\n",
       "</table>\n"
      ],
      "text/latex": [
       "\\begin{tabular}{r|lllll}\n",
       "\tID & 1 & 2 & 3 & 4 & 5\\\\\n",
       "\tExam1 & 3.3 & 4.0 & 2.3 & 2.2 & 3.1\\\\\n",
       "\tExam2 & 2.0 & 4.0 & 0.0 & 1.0 & 1.2\\\\\n",
       "\tQuiz & 3.7 & 4.0 & 3.3 & 3.3 & 3.9\\\\\n",
       "\tGender & 남 & 여 & 남 & 여 & 남\\\\\n",
       "\tExtra & 1 & 1 & 0 & 0 & 2\\\\\n",
       "\\end{tabular}\n"
      ],
      "text/markdown": [
       "1. \"1\"\n",
       "2. \"3.3\"\n",
       "3. \"2.0\"\n",
       "4. \"3.7\"\n",
       "5. \"남\"\n",
       "6. \"1\"\n",
       "7. \"2\"\n",
       "8. \"4.0\"\n",
       "9. \"4.0\"\n",
       "10. \"4.0\"\n",
       "11. \"여\"\n",
       "12. \"1\"\n",
       "13. \"3\"\n",
       "14. \"2.3\"\n",
       "15. \"0.0\"\n",
       "16. \"3.3\"\n",
       "17. \"남\"\n",
       "18. \"0\"\n",
       "19. \"4\"\n",
       "20. \"2.2\"\n",
       "21. \"1.0\"\n",
       "22. \"3.3\"\n",
       "23. \"여\"\n",
       "24. \"0\"\n",
       "25. \"5\"\n",
       "26. \"3.1\"\n",
       "27. \"1.2\"\n",
       "28. \"3.9\"\n",
       "29. \"남\"\n",
       "30. \"2\"\n",
       "\n",
       "\n"
      ],
      "text/plain": [
       "       [,1]  [,2]  [,3]  [,4]  [,5] \n",
       "ID     \"1\"   \"2\"   \"3\"   \"4\"   \"5\"  \n",
       "Exam1  \"3.3\" \"4.0\" \"2.3\" \"2.2\" \"3.1\"\n",
       "Exam2  \"2.0\" \"4.0\" \"0.0\" \"1.0\" \"1.2\"\n",
       "Quiz   \"3.7\" \"4.0\" \"3.3\" \"3.3\" \"3.9\"\n",
       "Gender \"남\"  \"여\"  \"남\"  \"여\"  \"남\" \n",
       "Extra  \"1\"   \"1\"   \"0\"   \"0\"   \"2\"  "
      ]
     },
     "metadata": {},
     "output_type": "display_data"
    }
   ],
   "source": [
    "t(exam1)"
   ]
  },
  {
   "cell_type": "markdown",
   "metadata": {},
   "source": [
    "## Creates new fields from one or more categorical fields\n",
    "- Averaging values"
   ]
  },
  {
   "cell_type": "code",
   "execution_count": 68,
   "metadata": {
    "collapsed": false
   },
   "outputs": [
    {
     "data": {
      "text/html": [
       "<dl class=dl-horizontal>\n",
       "\t<dt>남</dt>\n",
       "\t\t<dd>10.9</dd>\n",
       "\t<dt>여</dt>\n",
       "\t\t<dd>7.3</dd>\n",
       "</dl>\n"
      ],
      "text/markdown": [
       "남\n",
       ":   10.9여\n",
       ":   7.3\n",
       "\n"
      ],
      "text/plain": [
       "  남   여 \n",
       "10.9  7.3 "
      ]
     },
     "metadata": {},
     "output_type": "display_data"
    }
   ],
   "source": [
    "tapply(exam1$Quiz,exam1$Gender,sum) # 범주형 변수에만 적용이 가능하다. apply는 Matrix에 적용."
   ]
  },
  {
   "cell_type": "markdown",
   "metadata": {},
   "source": [
    "## Creates new fields from one or more categorical fields\n",
    " - Melting & Casting "
   ]
  },
  {
   "cell_type": "code",
   "execution_count": 74,
   "metadata": {
    "collapsed": false
   },
   "outputs": [
    {
     "data": {
      "text/html": [
       "<table>\n",
       "<thead><tr><th></th><th scope=col>id</th><th scope=col>site</th><th scope=col>pageview</th><th scope=col>dwelltime</th></tr></thead>\n",
       "<tbody>\n",
       "\t<tr><th scope=row>1</th><td>1</td><td>a</td><td>1</td><td>7</td></tr>\n",
       "\t<tr><th scope=row>2</th><td>1</td><td>b</td><td>2</td><td>6</td></tr>\n",
       "\t<tr><th scope=row>3</th><td>1</td><td>c</td><td>3</td><td>5</td></tr>\n",
       "\t<tr><th scope=row>4</th><td>1</td><td>a</td><td>4</td><td>4</td></tr>\n",
       "\t<tr><th scope=row>5</th><td>2</td><td>a</td><td>5</td><td>3</td></tr>\n",
       "\t<tr><th scope=row>6</th><td>2</td><td>b</td><td>6</td><td>2</td></tr>\n",
       "\t<tr><th scope=row>7</th><td>2</td><td>b</td><td>7</td><td>1</td></tr>\n",
       "</tbody>\n",
       "</table>\n"
      ],
      "text/latex": [
       "\\begin{tabular}{r|llll}\n",
       "  & id & site & pageview & dwelltime\\\\\n",
       "\\hline\n",
       "\t1 & 1 & a & 1 & 7\\\\\n",
       "\t2 & 1 & b & 2 & 6\\\\\n",
       "\t3 & 1 & c & 3 & 5\\\\\n",
       "\t4 & 1 & a & 4 & 4\\\\\n",
       "\t5 & 2 & a & 5 & 3\\\\\n",
       "\t6 & 2 & b & 6 & 2\\\\\n",
       "\t7 & 2 & b & 7 & 1\\\\\n",
       "\\end{tabular}\n"
      ],
      "text/plain": [
       "  id site pageview dwelltime\n",
       "1  1    a        1         7\n",
       "2  1    b        2         6\n",
       "3  1    c        3         5\n",
       "4  1    a        4         4\n",
       "5  2    a        5         3\n",
       "6  2    b        6         2\n",
       "7  2    b        7         1"
      ]
     },
     "metadata": {},
     "output_type": "display_data"
    }
   ],
   "source": [
    "a <- c(1,1,1,1,2,2,2)\n",
    "b <- c('a','b','c','a','a','b','b')\n",
    "c <- 1:7\n",
    "d <- 7:1\n",
    "\n",
    "tr <- data.frame(id=a,site=b,pageview=c,dwelltime=d)\n",
    "tr"
   ]
  },
  {
   "cell_type": "code",
   "execution_count": 76,
   "metadata": {
    "collapsed": false
   },
   "outputs": [],
   "source": [
    "library(reshape)"
   ]
  },
  {
   "cell_type": "code",
   "execution_count": 79,
   "metadata": {
    "collapsed": false
   },
   "outputs": [
    {
     "data": {
      "text/html": [
       "<table>\n",
       "<thead><tr><th></th><th scope=col>id</th><th scope=col>site</th><th scope=col>variable</th><th scope=col>value</th></tr></thead>\n",
       "<tbody>\n",
       "\t<tr><th scope=row>1</th><td>1       </td><td>a       </td><td>pageview</td><td>1       </td></tr>\n",
       "\t<tr><th scope=row>2</th><td>1       </td><td>b       </td><td>pageview</td><td>2       </td></tr>\n",
       "\t<tr><th scope=row>3</th><td>1       </td><td>c       </td><td>pageview</td><td>3       </td></tr>\n",
       "\t<tr><th scope=row>4</th><td>1       </td><td>a       </td><td>pageview</td><td>4       </td></tr>\n",
       "\t<tr><th scope=row>5</th><td>2       </td><td>a       </td><td>pageview</td><td>5       </td></tr>\n",
       "\t<tr><th scope=row>6</th><td>2       </td><td>b       </td><td>pageview</td><td>6       </td></tr>\n",
       "\t<tr><th scope=row>7</th><td>2       </td><td>b       </td><td>pageview</td><td>7       </td></tr>\n",
       "\t<tr><th scope=row>8</th><td>1        </td><td>a        </td><td>dwelltime</td><td>7        </td></tr>\n",
       "\t<tr><th scope=row>9</th><td>1        </td><td>b        </td><td>dwelltime</td><td>6        </td></tr>\n",
       "\t<tr><th scope=row>10</th><td>1        </td><td>c        </td><td>dwelltime</td><td>5        </td></tr>\n",
       "\t<tr><th scope=row>11</th><td>1        </td><td>a        </td><td>dwelltime</td><td>4        </td></tr>\n",
       "\t<tr><th scope=row>12</th><td>2        </td><td>a        </td><td>dwelltime</td><td>3        </td></tr>\n",
       "\t<tr><th scope=row>13</th><td>2        </td><td>b        </td><td>dwelltime</td><td>2        </td></tr>\n",
       "\t<tr><th scope=row>14</th><td>2        </td><td>b        </td><td>dwelltime</td><td>1        </td></tr>\n",
       "</tbody>\n",
       "</table>\n"
      ],
      "text/latex": [
       "\\begin{tabular}{r|llll}\n",
       "  & id & site & variable & value\\\\\n",
       "\\hline\n",
       "\t1 & 1        & a        & pageview & 1       \\\\\n",
       "\t2 & 1        & b        & pageview & 2       \\\\\n",
       "\t3 & 1        & c        & pageview & 3       \\\\\n",
       "\t4 & 1        & a        & pageview & 4       \\\\\n",
       "\t5 & 2        & a        & pageview & 5       \\\\\n",
       "\t6 & 2        & b        & pageview & 6       \\\\\n",
       "\t7 & 2        & b        & pageview & 7       \\\\\n",
       "\t8 & 1         & a         & dwelltime & 7        \\\\\n",
       "\t9 & 1         & b         & dwelltime & 6        \\\\\n",
       "\t10 & 1         & c         & dwelltime & 5        \\\\\n",
       "\t11 & 1         & a         & dwelltime & 4        \\\\\n",
       "\t12 & 2         & a         & dwelltime & 3        \\\\\n",
       "\t13 & 2         & b         & dwelltime & 2        \\\\\n",
       "\t14 & 2         & b         & dwelltime & 1        \\\\\n",
       "\\end{tabular}\n"
      ],
      "text/plain": [
       "   id site  variable value\n",
       "1   1    a  pageview     1\n",
       "2   1    b  pageview     2\n",
       "3   1    c  pageview     3\n",
       "4   1    a  pageview     4\n",
       "5   2    a  pageview     5\n",
       "6   2    b  pageview     6\n",
       "7   2    b  pageview     7\n",
       "8   1    a dwelltime     7\n",
       "9   1    b dwelltime     6\n",
       "10  1    c dwelltime     5\n",
       "11  1    a dwelltime     4\n",
       "12  2    a dwelltime     3\n",
       "13  2    b dwelltime     2\n",
       "14  2    b dwelltime     1"
      ]
     },
     "metadata": {},
     "output_type": "display_data"
    }
   ],
   "source": [
    "tr.melt <- melt(tr, id.vars=c(\"id\",\"site\"),measure.vars=c(\"pageview\",\"dwelltime\")) # id.vars의 값들을 기준으로 measure.vars 값들을 펼침.\n",
    "tr.melt"
   ]
  },
  {
   "cell_type": "markdown",
   "metadata": {},
   "source": [
    " - formular=var1~var2 : var1의 level을 행으로 var2의 level을 열 방향으로 설정해 value의 값을 function으로 집계"
   ]
  },
  {
   "cell_type": "code",
   "execution_count": 80,
   "metadata": {
    "collapsed": false
   },
   "outputs": [
    {
     "data": {
      "text/html": [
       "<table>\n",
       "<thead><tr><th></th><th scope=col>id</th><th scope=col>a</th><th scope=col>b</th><th scope=col>c</th></tr></thead>\n",
       "<tbody>\n",
       "\t<tr><th scope=row>1</th><td>1</td><td>5</td><td>2</td><td>3</td></tr>\n",
       "\t<tr><th scope=row>2</th><td> 2</td><td> 5</td><td>13</td><td> 0</td></tr>\n",
       "</tbody>\n",
       "</table>\n"
      ],
      "text/latex": [
       "\\begin{tabular}{r|llll}\n",
       "  & id & a & b & c\\\\\n",
       "\\hline\n",
       "\t1 & 1 & 5 & 2 & 3\\\\\n",
       "\t2 &  2 &  5 & 13 &  0\\\\\n",
       "\\end{tabular}\n"
      ],
      "text/plain": [
       "  id a  b c\n",
       "1  1 5  2 3\n",
       "2  2 5 13 0"
      ]
     },
     "metadata": {},
     "output_type": "display_data"
    }
   ],
   "source": [
    "cast(tr.melt, id ~ site, sum, subset=variable==\"pageview\")"
   ]
  },
  {
   "cell_type": "code",
   "execution_count": 82,
   "metadata": {
    "collapsed": false
   },
   "outputs": [
    {
     "data": {
      "text/html": [
       "<table>\n",
       "<thead><tr><th></th><th scope=col>id</th><th scope=col>site</th><th scope=col>pageview</th><th scope=col>dwelltime</th></tr></thead>\n",
       "<tbody>\n",
       "\t<tr><th scope=row>1</th><td>1</td><td>a</td><td>2</td><td>2</td></tr>\n",
       "\t<tr><th scope=row>2</th><td>1</td><td>b</td><td>1</td><td>1</td></tr>\n",
       "\t<tr><th scope=row>3</th><td>1</td><td>c</td><td>1</td><td>1</td></tr>\n",
       "\t<tr><th scope=row>4</th><td>2</td><td>a</td><td>1</td><td>1</td></tr>\n",
       "\t<tr><th scope=row>5</th><td>2</td><td>b</td><td>2</td><td>2</td></tr>\n",
       "</tbody>\n",
       "</table>\n"
      ],
      "text/latex": [
       "\\begin{tabular}{r|llll}\n",
       "  & id & site & pageview & dwelltime\\\\\n",
       "\\hline\n",
       "\t1 & 1 & a & 2 & 2\\\\\n",
       "\t2 & 1 & b & 1 & 1\\\\\n",
       "\t3 & 1 & c & 1 & 1\\\\\n",
       "\t4 & 2 & a & 1 & 1\\\\\n",
       "\t5 & 2 & b & 2 & 2\\\\\n",
       "\\end{tabular}\n"
      ],
      "text/plain": [
       "  id site pageview dwelltime\n",
       "1  1    a        2         2\n",
       "2  1    b        1         1\n",
       "3  1    c        1         1\n",
       "4  2    a        1         1\n",
       "5  2    b        2         2"
      ]
     },
     "metadata": {},
     "output_type": "display_data"
    }
   ],
   "source": [
    "cast(tr.melt, id+site~variable, length)"
   ]
  },
  {
   "cell_type": "code",
   "execution_count": 84,
   "metadata": {
    "collapsed": false
   },
   "outputs": [
    {
     "data": {
      "text/html": [
       "<table>\n",
       "<thead><tr><th></th><th scope=col>id</th><th scope=col>pageview</th></tr></thead>\n",
       "<tbody>\n",
       "\t<tr><th scope=row>1</th><td>1.0</td><td>2.5</td></tr>\n",
       "\t<tr><th scope=row>2</th><td>2</td><td>6</td></tr>\n",
       "</tbody>\n",
       "</table>\n"
      ],
      "text/latex": [
       "\\begin{tabular}{r|ll}\n",
       "  & id & pageview\\\\\n",
       "\\hline\n",
       "\t1 & 1.0 & 2.5\\\\\n",
       "\t2 & 2 & 6\\\\\n",
       "\\end{tabular}\n"
      ],
      "text/plain": [
       "  id pageview\n",
       "1  1      2.5\n",
       "2  2      6.0"
      ]
     },
     "metadata": {},
     "output_type": "display_data"
    }
   ],
   "source": [
    "cast(tr.melt, id ~ variable, mean, subset=variable==\"pageview\")"
   ]
  },
  {
   "cell_type": "markdown",
   "metadata": {},
   "source": [
    "# Converts numeric fields into discrete pieces"
   ]
  },
  {
   "cell_type": "code",
   "execution_count": 12,
   "metadata": {
    "collapsed": false
   },
   "outputs": [],
   "source": [
    "exam1 <- read.csv(\"exam1.csv\")"
   ]
  },
  {
   "cell_type": "code",
   "execution_count": 13,
   "metadata": {
    "collapsed": true
   },
   "outputs": [],
   "source": [
    "exam1 <-mutate(exam1, ExamSum=Exam1+Exam2)"
   ]
  },
  {
   "cell_type": "code",
   "execution_count": 14,
   "metadata": {
    "collapsed": false
   },
   "outputs": [
    {
     "data": {
      "text/html": [
       "<table>\n",
       "<thead><tr><th></th><th scope=col>X</th><th scope=col>ID</th><th scope=col>Exam1</th><th scope=col>Exam2</th><th scope=col>Quiz</th><th scope=col>ExamSum</th><th scope=col>Level</th></tr></thead>\n",
       "<tbody>\n",
       "\t<tr><th scope=row>1</th><td>1.0</td><td>1.0</td><td>3.3</td><td>2.0</td><td>3.7</td><td>5.3</td><td>2.0</td></tr>\n",
       "\t<tr><th scope=row>2</th><td>2</td><td>2</td><td>4</td><td>4</td><td>4</td><td>8</td><td>3</td></tr>\n",
       "\t<tr><th scope=row>3</th><td>3.0</td><td>3.0</td><td>2.3</td><td>0.0</td><td>3.3</td><td>2.3</td><td>1.0</td></tr>\n",
       "\t<tr><th scope=row>4</th><td>4.0</td><td>4.0</td><td>2.2</td><td>1.0</td><td>3.3</td><td>3.2</td><td>1.0</td></tr>\n",
       "\t<tr><th scope=row>5</th><td>5.0</td><td>5.0</td><td>3.1</td><td>1.2</td><td>3.9</td><td>4.3</td><td>2.0</td></tr>\n",
       "</tbody>\n",
       "</table>\n"
      ],
      "text/latex": [
       "\\begin{tabular}{r|lllllll}\n",
       "  & X & ID & Exam1 & Exam2 & Quiz & ExamSum & Level\\\\\n",
       "\\hline\n",
       "\t1 & 1.0 & 1.0 & 3.3 & 2.0 & 3.7 & 5.3 & 2.0\\\\\n",
       "\t2 & 2 & 2 & 4 & 4 & 4 & 8 & 3\\\\\n",
       "\t3 & 3.0 & 3.0 & 2.3 & 0.0 & 3.3 & 2.3 & 1.0\\\\\n",
       "\t4 & 4.0 & 4.0 & 2.2 & 1.0 & 3.3 & 3.2 & 1.0\\\\\n",
       "\t5 & 5.0 & 5.0 & 3.1 & 1.2 & 3.9 & 4.3 & 2.0\\\\\n",
       "\\end{tabular}\n"
      ],
      "text/plain": [
       "  X ID Exam1 Exam2 Quiz ExamSum Level\n",
       "1 1  1   3.3   2.0  3.7     5.3     2\n",
       "2 2  2   4.0   4.0  4.0     8.0     3\n",
       "3 3  3   2.3   0.0  3.3     2.3     1\n",
       "4 4  4   2.2   1.0  3.3     3.2     1\n",
       "5 5  5   3.1   1.2  3.9     4.3     2"
      ]
     },
     "metadata": {},
     "output_type": "display_data"
    }
   ],
   "source": [
    "exam1$Level <-cut(exam1$ExamSum,breaks=3,labels=F)\n",
    "exam1"
   ]
  },
  {
   "cell_type": "code",
   "execution_count": 15,
   "metadata": {
    "collapsed": false
   },
   "outputs": [
    {
     "data": {
      "text/html": [
       "<table>\n",
       "<thead><tr><th></th><th scope=col>X</th><th scope=col>ID</th><th scope=col>Exam1</th><th scope=col>Exam2</th><th scope=col>Quiz</th><th scope=col>ExamSum</th><th scope=col>Level</th></tr></thead>\n",
       "<tbody>\n",
       "\t<tr><th scope=row>1</th><td>1.0</td><td>1.0</td><td>3.3</td><td>2.0</td><td>3.7</td><td>5.3</td><td>3.0</td></tr>\n",
       "\t<tr><th scope=row>2</th><td>2</td><td>2</td><td>4</td><td>4</td><td>4</td><td>8</td><td>4</td></tr>\n",
       "\t<tr><th scope=row>3</th><td>3.0</td><td>3.0</td><td>2.3</td><td>0.0</td><td>3.3</td><td>2.3</td><td>2.0</td></tr>\n",
       "\t<tr><th scope=row>4</th><td>4.0</td><td>4.0</td><td>2.2</td><td>1.0</td><td>3.3</td><td>3.2</td><td>2.0</td></tr>\n",
       "\t<tr><th scope=row>5</th><td>5.0</td><td>5.0</td><td>3.1</td><td>1.2</td><td>3.9</td><td>4.3</td><td>3.0</td></tr>\n",
       "</tbody>\n",
       "</table>\n"
      ],
      "text/latex": [
       "\\begin{tabular}{r|lllllll}\n",
       "  & X & ID & Exam1 & Exam2 & Quiz & ExamSum & Level\\\\\n",
       "\\hline\n",
       "\t1 & 1.0 & 1.0 & 3.3 & 2.0 & 3.7 & 5.3 & 3.0\\\\\n",
       "\t2 & 2 & 2 & 4 & 4 & 4 & 8 & 4\\\\\n",
       "\t3 & 3.0 & 3.0 & 2.3 & 0.0 & 3.3 & 2.3 & 2.0\\\\\n",
       "\t4 & 4.0 & 4.0 & 2.2 & 1.0 & 3.3 & 3.2 & 2.0\\\\\n",
       "\t5 & 5.0 & 5.0 & 3.1 & 1.2 & 3.9 & 4.3 & 3.0\\\\\n",
       "\\end{tabular}\n"
      ],
      "text/plain": [
       "  X ID Exam1 Exam2 Quiz ExamSum Level\n",
       "1 1  1   3.3   2.0  3.7     5.3     3\n",
       "2 2  2   4.0   4.0  4.0     8.0     4\n",
       "3 3  3   2.3   0.0  3.3     2.3     2\n",
       "4 4  4   2.2   1.0  3.3     3.2     2\n",
       "5 5  5   3.1   1.2  3.9     4.3     3"
      ]
     },
     "metadata": {},
     "output_type": "display_data"
    }
   ],
   "source": [
    "exam1$Level <-cut(exam1$ExamSum,c(0,2,4,6,8),labels=F)\n",
    "exam1"
   ]
  },
  {
   "cell_type": "markdown",
   "metadata": {},
   "source": [
    "# 백화점 데이터를 통해 아래 문제를 해결\n",
    "\n",
    "### 1. 50대 기혼 여성 고객리스트를 아래와 같이 출력 하시오\n",
    "     custid gender age marriage    residence        job\n",
    "     36  46111     여  57     기혼   Gangnam-gu   개인사업\n",
    "     37  46230     여  57     기혼  Jungnang-gu   개인사업\n",
    "     38  46327     여  58     기혼    Seocho-gu   금융기관\n",
    "     39  46441     여  58     기혼   Gangnam-gu   교육기관\n",
    "     40  46554     여  58     기혼 Seodaemun-gu 정보서비스\n",
    "     41  46869     여  59     기혼    Seocho-gu     건설업\n"
   ]
  },
  {
   "cell_type": "code",
   "execution_count": 16,
   "metadata": {
    "collapsed": false
   },
   "outputs": [
    {
     "data": {
      "text/html": [
       "<table>\n",
       "<thead><tr><th></th><th scope=col>custid</th><th scope=col>gender</th><th scope=col>age</th><th scope=col>marriage</th><th scope=col>residence</th><th scope=col>job</th></tr></thead>\n",
       "<tbody>\n",
       "\t<tr><th scope=row>1</th><td>10070     </td><td>여        </td><td>28        </td><td>미혼      </td><td>Yongsan-gu</td><td>제조업    </td></tr>\n",
       "\t<tr><th scope=row>2</th><td>10139      </td><td>여         </td><td>28         </td><td>미혼       </td><td>Gangdong-gu</td><td>정보서비스 </td></tr>\n",
       "\t<tr><th scope=row>3</th><td>10208      </td><td>여         </td><td>28         </td><td>미혼       </td><td>Gwangjin-gu</td><td>제조업     </td></tr>\n",
       "</tbody>\n",
       "</table>\n"
      ],
      "text/latex": [
       "\\begin{tabular}{r|llllll}\n",
       "  & custid & gender & age & marriage & residence & job\\\\\n",
       "\\hline\n",
       "\t1 & 10070      & 여         & 28         & 미혼       & Yongsan-gu & 제조업    \\\\\n",
       "\t2 & 10139       & 여          & 28          & 미혼        & Gangdong-gu & 정보서비스 \\\\\n",
       "\t3 & 10208       & 여          & 28          & 미혼        & Gwangjin-gu & 제조업     \\\\\n",
       "\\end{tabular}\n"
      ],
      "text/plain": [
       "  custid gender age marriage   residence        job\n",
       "1  10070     여  28     미혼  Yongsan-gu     제조업\n",
       "2  10139     여  28     미혼 Gangdong-gu 정보서비스\n",
       "3  10208     여  28     미혼 Gwangjin-gu     제조업"
      ]
     },
     "metadata": {},
     "output_type": "display_data"
    },
    {
     "data": {
      "text/html": [
       "<table>\n",
       "<thead><tr><th></th><th scope=col>datetime</th><th scope=col>custid</th><th scope=col>store</th><th scope=col>product</th><th scope=col>brand</th><th scope=col>corner</th><th scope=col>import</th><th scope=col>amount</th><th scope=col>installment</th></tr></thead>\n",
       "<tbody>\n",
       "\t<tr><th scope=row>1</th><td>2000-05-01 10:43</td><td>18313           </td><td>신촌점          </td><td>4104840008000   </td><td>샤넬            </td><td>화장품          </td><td>1               </td><td>113000          </td><td>3               </td></tr>\n",
       "\t<tr><th scope=row>2</th><td>2000-05-01 11:00</td><td>18313           </td><td>신촌점          </td><td>2.7e+12         </td><td>식품            </td><td>일반식품        </td><td>0               </td><td>91950           </td><td>3               </td></tr>\n",
       "\t<tr><th scope=row>3</th><td>2000-05-01 11:33</td><td>27222           </td><td>신촌점          </td><td>4545370944500   </td><td>까사미아        </td><td>가구            </td><td>0               </td><td>598000          </td><td>3               </td></tr>\n",
       "</tbody>\n",
       "</table>\n"
      ],
      "text/latex": [
       "\\begin{tabular}{r|lllllllll}\n",
       "  & datetime & custid & store & product & brand & corner & import & amount & installment\\\\\n",
       "\\hline\n",
       "\t1 & 2000-05-01 10:43 & 18313            & 신촌점           & 4104840008000    & 샤넬             & 화장품           & 1                & 113000           & 3               \\\\\n",
       "\t2 & 2000-05-01 11:00 & 18313            & 신촌점           & 2.7e+12          & 식품             & 일반식품         & 0                & 91950            & 3               \\\\\n",
       "\t3 & 2000-05-01 11:33 & 27222            & 신촌점           & 4545370944500    & 까사미아         & 가구             & 0                & 598000           & 3               \\\\\n",
       "\\end{tabular}\n"
      ],
      "text/plain": [
       "          datetime custid  store      product    brand   corner import amount\n",
       "1 2000-05-01 10:43  18313 신촌점 4.104840e+12     샤넬   화장품      1 113000\n",
       "2 2000-05-01 11:00  18313 신촌점 2.700000e+12     식품 일반식품      0  91950\n",
       "3 2000-05-01 11:33  27222 신촌점 4.545371e+12 까사미아     가구      0 598000\n",
       "  installment\n",
       "1           3\n",
       "2           3\n",
       "3           3"
      ]
     },
     "metadata": {},
     "output_type": "display_data"
    }
   ],
   "source": [
    "cs <- read.table(\"dataCustomers.tab\", sep=\"\\t\", header = T, stringsAsFactors = F)\n",
    "tr <- read.table(\"dataTransactions.tab\", sep=\"\\t\", header = T, stringsAsFactors = F)\n",
    "head(cs,3)\n",
    "head(tr,3)"
   ]
  },
  {
   "cell_type": "code",
   "execution_count": 17,
   "metadata": {
    "collapsed": false
   },
   "outputs": [
    {
     "data": {
      "text/html": [
       "<table>\n",
       "<thead><tr><th></th><th scope=col>custid</th><th scope=col>gender</th><th scope=col>age</th><th scope=col>marriage</th><th scope=col>residence</th><th scope=col>job</th></tr></thead>\n",
       "<tbody>\n",
       "\t<tr><th scope=row>36</th><td>46111     </td><td>여        </td><td>57        </td><td>기혼      </td><td>Gangnam-gu</td><td>개인사업  </td></tr>\n",
       "\t<tr><th scope=row>37</th><td>46230      </td><td>여         </td><td>57         </td><td>기혼       </td><td>Jungnang-gu</td><td>개인사업   </td></tr>\n",
       "\t<tr><th scope=row>38</th><td>46327    </td><td>여       </td><td>58       </td><td>기혼     </td><td>Seocho-gu</td><td>금융기관 </td></tr>\n",
       "\t<tr><th scope=row>39</th><td>46441     </td><td>여        </td><td>58        </td><td>기혼      </td><td>Gangnam-gu</td><td>교육기관  </td></tr>\n",
       "\t<tr><th scope=row>40</th><td>46554       </td><td>여          </td><td>58          </td><td>기혼        </td><td>Seodaemun-gu</td><td>정보서비스  </td></tr>\n",
       "\t<tr><th scope=row>41</th><td>46869    </td><td>여       </td><td>59       </td><td>기혼     </td><td>Seocho-gu</td><td>건설업   </td></tr>\n",
       "</tbody>\n",
       "</table>\n"
      ],
      "text/latex": [
       "\\begin{tabular}{r|llllll}\n",
       "  & custid & gender & age & marriage & residence & job\\\\\n",
       "\\hline\n",
       "\t36 & 46111      & 여         & 57         & 기혼       & Gangnam-gu & 개인사업  \\\\\n",
       "\t37 & 46230       & 여          & 57          & 기혼        & Jungnang-gu & 개인사업   \\\\\n",
       "\t38 & 46327     & 여        & 58        & 기혼      & Seocho-gu & 금융기관 \\\\\n",
       "\t39 & 46441      & 여         & 58         & 기혼       & Gangnam-gu & 교육기관  \\\\\n",
       "\t40 & 46554        & 여           & 58           & 기혼         & Seodaemun-gu & 정보서비스  \\\\\n",
       "\t41 & 46869     & 여        & 59        & 기혼      & Seocho-gu & 건설업   \\\\\n",
       "\\end{tabular}\n"
      ],
      "text/plain": [
       "   custid gender age marriage    residence        job\n",
       "36  46111     여  57     기혼   Gangnam-gu   개인사업\n",
       "37  46230     여  57     기혼  Jungnang-gu   개인사업\n",
       "38  46327     여  58     기혼    Seocho-gu   금융기관\n",
       "39  46441     여  58     기혼   Gangnam-gu   교육기관\n",
       "40  46554     여  58     기혼 Seodaemun-gu 정보서비스\n",
       "41  46869     여  59     기혼    Seocho-gu     건설업"
      ]
     },
     "metadata": {},
     "output_type": "display_data"
    }
   ],
   "source": [
    "filter(cs, age >= 50 & age <= 59 & gender == \"여\" & marriage ==\"기혼\") %>% tail()"
   ]
  },
  {
   "cell_type": "markdown",
   "metadata": {},
   "source": [
    "### 2) H백화점의 남녀별 평균나이를 계산"
   ]
  },
  {
   "cell_type": "code",
   "execution_count": 18,
   "metadata": {
    "collapsed": false
   },
   "outputs": [
    {
     "data": {
      "text/html": [
       "<table>\n",
       "<thead><tr><th></th><th scope=col>gender</th><th scope=col>Cnt</th></tr></thead>\n",
       "<tbody>\n",
       "\t<tr><th scope=row>1</th><td>남 </td><td>154</td></tr>\n",
       "\t<tr><th scope=row>2</th><td>여 </td><td>346</td></tr>\n",
       "</tbody>\n",
       "</table>\n"
      ],
      "text/latex": [
       "\\begin{tabular}{r|ll}\n",
       "  & gender & Cnt\\\\\n",
       "\\hline\n",
       "\t1 & 남  & 154\\\\\n",
       "\t2 & 여  & 346\\\\\n",
       "\\end{tabular}\n"
      ],
      "text/plain": [
       "  gender Cnt\n",
       "1     남 154\n",
       "2     여 346"
      ]
     },
     "metadata": {},
     "output_type": "display_data"
    },
    {
     "data": {
      "text/html": [
       "<table>\n",
       "<thead><tr><th></th><th scope=col>gender</th><th scope=col>age</th></tr></thead>\n",
       "<tbody>\n",
       "\t<tr><th scope=row>1</th><td>남              </td><td>40.7012987012987</td></tr>\n",
       "\t<tr><th scope=row>2</th><td>여              </td><td>39.1994219653179</td></tr>\n",
       "</tbody>\n",
       "</table>\n"
      ],
      "text/latex": [
       "\\begin{tabular}{r|ll}\n",
       "  & gender & age\\\\\n",
       "\\hline\n",
       "\t1 & 남               & 40.7012987012987\\\\\n",
       "\t2 & 여               & 39.1994219653179\\\\\n",
       "\\end{tabular}\n"
      ],
      "text/plain": [
       "  gender      age\n",
       "1     남 40.70130\n",
       "2     여 39.19942"
      ]
     },
     "metadata": {},
     "output_type": "display_data"
    }
   ],
   "source": [
    "cs %>% group_by(gender) %>% summarize(Cnt = n()) #남녀수\n",
    "cs %>% group_by(gender) %>% summarize(age = mean(age)) #남녀 평균 나이\n",
    "#group_by(cs,gender) %>% summarize(age=mean(age))"
   ]
  },
  {
   "cell_type": "markdown",
   "metadata": {},
   "source": [
    "### 3) 거주지역 전체 출력."
   ]
  },
  {
   "cell_type": "code",
   "execution_count": 20,
   "metadata": {
    "collapsed": false
   },
   "outputs": [
    {
     "data": {
      "text/html": [
       "<table>\n",
       "<thead><tr><th></th><th scope=col>residence</th></tr></thead>\n",
       "<tbody>\n",
       "\t<tr><th scope=row>1</th><td>Yongsan-gu</td></tr>\n",
       "\t<tr><th scope=row>2</th><td>Gangdong-gu</td></tr>\n",
       "\t<tr><th scope=row>3</th><td>Gwangjin-gu</td></tr>\n",
       "</tbody>\n",
       "</table>\n"
      ],
      "text/latex": [
       "\\begin{tabular}{r|l}\n",
       "  & residence\\\\\n",
       "\\hline\n",
       "\t1 & Yongsan-gu\\\\\n",
       "\t2 & Gangdong-gu\\\\\n",
       "\t3 & Gwangjin-gu\\\\\n",
       "\\end{tabular}\n"
      ],
      "text/plain": [
       "    residence\n",
       "1  Yongsan-gu\n",
       "2 Gangdong-gu\n",
       "3 Gwangjin-gu"
      ]
     },
     "metadata": {},
     "output_type": "display_data"
    },
    {
     "data": {
      "text/html": [
       "<ol class=list-inline>\n",
       "\t<li>\"Yongsan-gu\"</li>\n",
       "\t<li>\"Gangdong-gu\"</li>\n",
       "\t<li>\"Gwangjin-gu\"</li>\n",
       "</ol>\n"
      ],
      "text/latex": [
       "\\begin{enumerate*}\n",
       "\\item \"Yongsan-gu\"\n",
       "\\item \"Gangdong-gu\"\n",
       "\\item \"Gwangjin-gu\"\n",
       "\\end{enumerate*}\n"
      ],
      "text/markdown": [
       "1. \"Yongsan-gu\"\n",
       "2. \"Gangdong-gu\"\n",
       "3. \"Gwangjin-gu\"\n",
       "\n",
       "\n"
      ],
      "text/plain": [
       "[1] \"Yongsan-gu\"  \"Gangdong-gu\" \"Gwangjin-gu\""
      ]
     },
     "metadata": {},
     "output_type": "display_data"
    }
   ],
   "source": [
    "head(distinct(cs,residence),3)\n",
    "head(unique(cs$residence),3)"
   ]
  },
  {
   "cell_type": "markdown",
   "metadata": {},
   "source": [
    "### 4) 지점별 수입품 과 국산품"
   ]
  },
  {
   "cell_type": "code",
   "execution_count": 27,
   "metadata": {
    "collapsed": false
   },
   "outputs": [
    {
     "data": {
      "text/html": [
       "<table>\n",
       "<thead><tr><th></th><th scope=col>datetime</th><th scope=col>custid</th><th scope=col>store</th><th scope=col>product</th><th scope=col>brand</th><th scope=col>corner</th><th scope=col>import</th><th scope=col>amount</th><th scope=col>installment</th></tr></thead>\n",
       "<tbody>\n",
       "\t<tr><th scope=row>1</th><td>2000-05-01 10:43</td><td>18313           </td><td>신촌점          </td><td>4104840008000   </td><td>샤넬            </td><td>화장품          </td><td>1               </td><td>113000          </td><td>3               </td></tr>\n",
       "\t<tr><th scope=row>2</th><td>2000-05-01 11:00</td><td>18313           </td><td>신촌점          </td><td>2.7e+12         </td><td>식품            </td><td>일반식품        </td><td>0               </td><td>91950           </td><td>3               </td></tr>\n",
       "\t<tr><th scope=row>3</th><td>2000-05-01 11:33</td><td>27222           </td><td>신촌점          </td><td>4545370944500   </td><td>까사미아        </td><td>가구            </td><td>0               </td><td>598000          </td><td>3               </td></tr>\n",
       "</tbody>\n",
       "</table>\n"
      ],
      "text/latex": [
       "\\begin{tabular}{r|lllllllll}\n",
       "  & datetime & custid & store & product & brand & corner & import & amount & installment\\\\\n",
       "\\hline\n",
       "\t1 & 2000-05-01 10:43 & 18313            & 신촌점           & 4104840008000    & 샤넬             & 화장품           & 1                & 113000           & 3               \\\\\n",
       "\t2 & 2000-05-01 11:00 & 18313            & 신촌점           & 2.7e+12          & 식품             & 일반식품         & 0                & 91950            & 3               \\\\\n",
       "\t3 & 2000-05-01 11:33 & 27222            & 신촌점           & 4545370944500    & 까사미아         & 가구             & 0                & 598000           & 3               \\\\\n",
       "\\end{tabular}\n"
      ],
      "text/plain": [
       "          datetime custid  store      product    brand   corner import amount\n",
       "1 2000-05-01 10:43  18313 신촌점 4.104840e+12     샤넬   화장품      1 113000\n",
       "2 2000-05-01 11:00  18313 신촌점 2.700000e+12     식품 일반식품      0  91950\n",
       "3 2000-05-01 11:33  27222 신촌점 4.545371e+12 까사미아     가구      0 598000\n",
       "  installment\n",
       "1           3\n",
       "2           3\n",
       "3           3"
      ]
     },
     "metadata": {},
     "output_type": "display_data"
    }
   ],
   "source": [
    "head(tr,3)"
   ]
  },
  {
   "cell_type": "code",
   "execution_count": 28,
   "metadata": {
    "collapsed": false
   },
   "outputs": [
    {
     "data": {
      "text/html": [
       "<table>\n",
       "<thead><tr><th></th><th scope=col>store</th><th scope=col>import</th><th scope=col>Cnt</th></tr></thead>\n",
       "<tbody>\n",
       "\t<tr><th scope=row>1</th><td>무역점</td><td>0     </td><td>4363  </td></tr>\n",
       "\t<tr><th scope=row>2</th><td>무역점</td><td>1     </td><td>592   </td></tr>\n",
       "\t<tr><th scope=row>3</th><td>본점</td><td>0   </td><td>3090</td></tr>\n",
       "\t<tr><th scope=row>4</th><td>본점</td><td>1   </td><td>632 </td></tr>\n",
       "\t<tr><th scope=row>5</th><td>신촌점</td><td>0     </td><td>5622  </td></tr>\n",
       "\t<tr><th scope=row>6</th><td>신촌점</td><td>1     </td><td>488   </td></tr>\n",
       "\t<tr><th scope=row>7</th><td>천호점</td><td>0     </td><td>3988  </td></tr>\n",
       "\t<tr><th scope=row>8</th><td>천호점</td><td>1     </td><td>350   </td></tr>\n",
       "</tbody>\n",
       "</table>\n"
      ],
      "text/latex": [
       "\\begin{tabular}{r|lll}\n",
       "  & store & import & Cnt\\\\\n",
       "\\hline\n",
       "\t1 & 무역점 & 0      & 4363  \\\\\n",
       "\t2 & 무역점 & 1      & 592   \\\\\n",
       "\t3 & 본점 & 0    & 3090\\\\\n",
       "\t4 & 본점 & 1    & 632 \\\\\n",
       "\t5 & 신촌점 & 0      & 5622  \\\\\n",
       "\t6 & 신촌점 & 1      & 488   \\\\\n",
       "\t7 & 천호점 & 0      & 3988  \\\\\n",
       "\t8 & 천호점 & 1      & 350   \\\\\n",
       "\\end{tabular}\n"
      ],
      "text/plain": [
       "   store import  Cnt\n",
       "1 무역점      0 4363\n",
       "2 무역점      1  592\n",
       "3   본점      0 3090\n",
       "4   본점      1  632\n",
       "5 신촌점      0 5622\n",
       "6 신촌점      1  488\n",
       "7 천호점      0 3988\n",
       "8 천호점      1  350"
      ]
     },
     "metadata": {},
     "output_type": "display_data"
    }
   ],
   "source": [
    "tr %>% group_by(store,import) %>% summarise(Cnt=n())  "
   ]
  },
  {
   "cell_type": "markdown",
   "metadata": {},
   "source": [
    "### 5) 남녀별로 건당 구매액의 최소값 중앙 값 최대값을 계산하여 아래와 같이 출력하시오."
   ]
  },
  {
   "cell_type": "code",
   "execution_count": 22,
   "metadata": {
    "collapsed": false
   },
   "outputs": [
    {
     "data": {
      "text/html": [
       "<table>\n",
       "<thead><tr><th></th><th scope=col>custid</th><th scope=col>gender</th><th scope=col>age</th><th scope=col>marriage</th><th scope=col>residence</th><th scope=col>job</th><th scope=col>datetime</th><th scope=col>store</th><th scope=col>product</th><th scope=col>brand</th><th scope=col>corner</th><th scope=col>import</th><th scope=col>amount</th><th scope=col>installment</th></tr></thead>\n",
       "<tbody>\n",
       "\t<tr><th scope=row>1</th><td>10070           </td><td>여              </td><td>28              </td><td>미혼            </td><td>Yongsan-gu      </td><td>제조업          </td><td>2000-10-17 19:10</td><td>무역점          </td><td>4800429513002   </td><td>밀라노스토리무역</td><td>캐릭터캐주얼    </td><td>0               </td><td>74000           </td><td>1               </td></tr>\n",
       "\t<tr><th scope=row>2</th><td>10070           </td><td>여              </td><td>28              </td><td>미혼            </td><td>Yongsan-gu      </td><td>제조업          </td><td>2000-11-04 17:24</td><td>본점            </td><td>2800429313003   </td><td>밀라노  본점    </td><td>캐릭터캐주얼    </td><td>0               </td><td>298000          </td><td>3               </td></tr>\n",
       "\t<tr><th scope=row>3</th><td>10070           </td><td>여              </td><td>28              </td><td>미혼            </td><td>Yongsan-gu      </td><td>제조업          </td><td>2000-09-03 11:33</td><td>신촌점          </td><td>4106530008200   </td><td>메이컵포에버    </td><td>화장품          </td><td>1               </td><td>18000           </td><td>1               </td></tr>\n",
       "</tbody>\n",
       "</table>\n"
      ],
      "text/latex": [
       "\\begin{tabular}{r|llllllllllllll}\n",
       "  & custid & gender & age & marriage & residence & job & datetime & store & product & brand & corner & import & amount & installment\\\\\n",
       "\\hline\n",
       "\t1 & 10070            & 여               & 28               & 미혼             & Yongsan-gu       & 제조업           & 2000-10-17 19:10 & 무역점           & 4800429513002    & 밀라노스토리무역 & 캐릭터캐주얼     & 0                & 74000            & 1               \\\\\n",
       "\t2 & 10070            & 여               & 28               & 미혼             & Yongsan-gu       & 제조업           & 2000-11-04 17:24 & 본점             & 2800429313003    & 밀라노  본점     & 캐릭터캐주얼     & 0                & 298000           & 3               \\\\\n",
       "\t3 & 10070            & 여               & 28               & 미혼             & Yongsan-gu       & 제조업           & 2000-09-03 11:33 & 신촌점           & 4106530008200    & 메이컵포에버     & 화장품           & 1                & 18000            & 1               \\\\\n",
       "\\end{tabular}\n"
      ],
      "text/plain": [
       "  custid gender age marriage  residence    job         datetime  store\n",
       "1  10070     여  28     미혼 Yongsan-gu 제조업 2000-10-17 19:10 무역점\n",
       "2  10070     여  28     미혼 Yongsan-gu 제조업 2000-11-04 17:24   본점\n",
       "3  10070     여  28     미혼 Yongsan-gu 제조업 2000-09-03 11:33 신촌점\n",
       "       product            brand       corner import amount installment\n",
       "1 4.800430e+12 밀라노스토리무역 캐릭터캐주얼      0  74000           1\n",
       "2 2.800429e+12     밀라노  본점 캐릭터캐주얼      0 298000           3\n",
       "3 4.106530e+12     메이컵포에버       화장품      1  18000           1"
      ]
     },
     "metadata": {},
     "output_type": "display_data"
    }
   ],
   "source": [
    "tmp <- merge(cs,tr)\n",
    "head(tmp,3)"
   ]
  },
  {
   "cell_type": "code",
   "execution_count": 23,
   "metadata": {
    "collapsed": false
   },
   "outputs": [
    {
     "data": {
      "text/html": [
       "<table>\n",
       "<thead><tr><th></th><th scope=col>gender</th><th scope=col>min</th><th scope=col>median</th><th scope=col>max</th></tr></thead>\n",
       "<tbody>\n",
       "\t<tr><th scope=row>1</th><td>남     </td><td>650    </td><td>51020  </td><td>8000000</td></tr>\n",
       "\t<tr><th scope=row>2</th><td>여     </td><td>840    </td><td>54354  </td><td>3930000</td></tr>\n",
       "</tbody>\n",
       "</table>\n"
      ],
      "text/latex": [
       "\\begin{tabular}{r|llll}\n",
       "  & gender & min & median & max\\\\\n",
       "\\hline\n",
       "\t1 & 남      & 650     & 51020   & 8000000\\\\\n",
       "\t2 & 여      & 840     & 54354   & 3930000\\\\\n",
       "\\end{tabular}\n"
      ],
      "text/plain": [
       "  gender min median     max\n",
       "1     남 650  51020 8000000\n",
       "2     여 840  54354 3930000"
      ]
     },
     "metadata": {},
     "output_type": "display_data"
    }
   ],
   "source": [
    "tmp %>% group_by(gender) %>% summarise_each(funs(min,median,max), amount)"
   ]
  },
  {
   "cell_type": "markdown",
   "metadata": {},
   "source": [
    "### 6) 총 구매액이 가장 많은 사람부터 적은 사람순으로 정렬"
   ]
  },
  {
   "cell_type": "code",
   "execution_count": 25,
   "metadata": {
    "collapsed": false
   },
   "outputs": [
    {
     "data": {
      "text/html": [
       "<table>\n",
       "<thead><tr><th></th><th scope=col>custid</th><th scope=col>amount</th></tr></thead>\n",
       "<tbody>\n",
       "\t<tr><th scope=row>1</th><td>   42800</td><td>61672778</td></tr>\n",
       "\t<tr><th scope=row>2</th><td>   15968</td><td>44478591</td></tr>\n",
       "\t<tr><th scope=row>3</th><td>   13493</td><td>35480804</td></tr>\n",
       "</tbody>\n",
       "</table>\n"
      ],
      "text/latex": [
       "\\begin{tabular}{r|ll}\n",
       "  & custid & amount\\\\\n",
       "\\hline\n",
       "\t1 &    42800 & 61672778\\\\\n",
       "\t2 &    15968 & 44478591\\\\\n",
       "\t3 &    13493 & 35480804\\\\\n",
       "\\end{tabular}\n"
      ],
      "text/plain": [
       "  custid   amount\n",
       "1  42800 61672778\n",
       "2  15968 44478591\n",
       "3  13493 35480804"
      ]
     },
     "metadata": {},
     "output_type": "display_data"
    }
   ],
   "source": [
    "tr %>% group_by(custid) %>% summarise(amount = sum(amount)) %>% arrange(desc(amount)) %>% head(3)"
   ]
  }
 ],
 "metadata": {
  "anaconda-cloud": {},
  "kernelspec": {
   "display_name": "R 3.3",
   "language": "R",
   "name": "ir33"
  },
  "language_info": {
   "codemirror_mode": "r",
   "file_extension": ".r",
   "mimetype": "text/x-r-source",
   "name": "R",
   "pygments_lexer": "r",
   "version": "3.3.1"
  }
 },
 "nbformat": 4,
 "nbformat_minor": 0
}
