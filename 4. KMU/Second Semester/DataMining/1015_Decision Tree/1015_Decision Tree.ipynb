{
 "cells": [
  {
   "cell_type": "markdown",
   "metadata": {},
   "source": [
    "# 분류 및 예측 (1)\n",
    "# Decision Tree ( 의사결정나무 )\n",
    "## 분류/예측 분석의 개념 \n",
    "\n",
    "<img src=\"./photo/1.PNG\">"
   ]
  },
  {
   "cell_type": "markdown",
   "metadata": {},
   "source": [
    "## 분류/예측 분석의 응용\n",
    "<img src=\"./photo/2.PNG\" width=800>"
   ]
  },
  {
   "cell_type": "markdown",
   "metadata": {},
   "source": [
    "## 분류/예측 분석기법\n",
    "<img src=\"./photo/3.PNG\" width=800>\n",
    "<br>\n",
    "<br>\n",
    "## 분류/예측 분석기법(시각적 해석)\n",
    "<img src=\"./photo/4.PNG\" width=800>\n",
    "<br>\n",
    "<br>\n",
    "## 분류/예측 분석기법 (Decision Tree based Methods)\n",
    "<img src=\"./photo/5.PNG\" width=800>\n",
    "<br>\n",
    "<br>\n",
    "## 분류/예측 분석기법 (Support Vector Machines)\n",
    "<img src=\"./photo/6.PNG\" width=800>\n",
    "<br>\n",
    "<br>\n",
    "## 분류/예측 분석기법 (Neural Networks)\n",
    "<img src=\"./photo/7.PNG\" width=800>"
   ]
  },
  {
   "cell_type": "markdown",
   "metadata": {},
   "source": [
    "## 의사결정나무(Decision Tree)의 개요 \n",
    "<img src=\"./photo/8.PNG\" width=800>\n",
    "<br>\n",
    "<br>\n",
    "## Example of Decision Tree\n",
    "<img src=\"./photo/9.PNG\" width=800>\n",
    "<br>\n",
    "<br>\n",
    "## 의사결정나무의 구성\n",
    "<img src=\"./photo/10.PNG\" width=800>\n",
    "<br>\n",
    "<br>\n",
    "## 의사결정나무의 형성과정\n",
    "<img src=\"./photo/11.PNG\" width=800>"
   ]
  },
  {
   "cell_type": "markdown",
   "metadata": {},
   "source": [
    "## 순수도 & 분리기준\n",
    "- 독립변수에서 결정하여 나누는 기준을 각각 수행해보고 가장 적합한 변수를 활용하여 분류를 반복한다.\n",
    "<img src=\"./photo/12.PNG\" width=800>\n",
    "<br>\n",
    "<br>\n",
    "## C5.0 알고리즘(1/10)\n",
    "<img src=\"./photo/13.PNG\" width=800>\n",
    "<br>\n",
    "<br>\n",
    "## C5.0 알고리즘(2/10)\n",
    "<img src=\"./photo/14.PNG\" width=800>\n",
    "<br>\n",
    "<br>\n",
    "## C5.0 알고리즘(3/10)\n",
    "<img src=\"./photo/15.PNG\" width=800>\n",
    "<br>\n",
    "<br>\n",
    "## C5.0 알고리즘(4/10)\n",
    "<img src=\"./photo/16.PNG\" width=800>\n",
    "<br>\n",
    "<br>\n",
    "## C5.0 알고리즘(5/10)\n",
    "<img src=\"./photo/17.PNG\" width=800>\n",
    "<br>\n",
    "<br>\n",
    "## C5.0 알고리즘(6/10)\n",
    "<img src=\"./photo/18.PNG\" width=800>\n",
    "<br>\n",
    "<br>\n",
    "## C5.0 알고리즘(7/10)\n",
    "<img src=\"./photo/19.PNG\" width=800>\n",
    "<br>\n",
    "<br>"
   ]
  },
  {
   "cell_type": "markdown",
   "metadata": {},
   "source": [
    "## C5.0 알고리즘(8/10)\n",
    "<img src=\"./photo/20.PNG\" width=800>\n",
    "<br>\n",
    "<br>\n",
    "## C5.0 알고리즘(9/10)\n",
    "<img src=\"./photo/21.PNG\" width=800>\n",
    "<br>\n",
    "<br>\n",
    "## Practical Issues of Classification\n",
    "<img src=\"./photo/22.PNG\" width=800>\n",
    "<br>\n",
    "<br>\n",
    "## 과도/과소 적합\n",
    "<img src=\"./photo/23.PNG\" width=800>\n",
    "<br>\n",
    "<br>\n",
    "## 가지치기(1/3)\n",
    "<img src=\"./photo/24.PNG\" width=800>\n",
    "<br>\n",
    "<br>\n",
    "## 가지치기(2/3)\n",
    "<img src=\"./photo/25.PNG\" width=800>\n",
    "<br>\n",
    "<br>\n",
    "## 가지치기(3/3)\n",
    "<img src=\"./photo/26.PNG\" width=800>\n",
    "<br>\n",
    "<br>\n",
    "## C5.0 알고리즘(10/10)\n",
    "<img src=\"./photo/27.PNG\" width=800>\n",
    "<br>\n",
    "<br>"
   ]
  }
 ],
 "metadata": {
  "kernelspec": {
   "display_name": "R 3.3",
   "language": "R",
   "name": "ir33"
  },
  "language_info": {
   "codemirror_mode": "r",
   "file_extension": ".r",
   "mimetype": "text/x-r-source",
   "name": "R",
   "pygments_lexer": "r",
   "version": "3.3.1"
  }
 },
 "nbformat": 4,
 "nbformat_minor": 0
}
