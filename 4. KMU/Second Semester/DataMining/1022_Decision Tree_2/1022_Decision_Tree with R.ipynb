{
 "cells": [
  {
   "cell_type": "markdown",
   "metadata": {},
   "source": [
    "# 분류 및 예측 2 \n",
    "# 의사결정나무(Decision Tree)\n",
    "## R을 활용한 의사결정나무 실습"
   ]
  },
  {
   "cell_type": "markdown",
   "metadata": {},
   "source": [
    "<img src=\"./photo/1.PNG\">"
   ]
  },
  {
   "cell_type": "markdown",
   "metadata": {},
   "source": [
    "## Using \"C50\", \"caret\" & \"ROCR\" packages"
   ]
  },
  {
   "cell_type": "markdown",
   "metadata": {},
   "source": [
    " - createDataPartition() - caret package\n",
    " - C5.0() - C50 package\n",
    " - summary() - C50 package\n",
    " - C5imp() - C50 package\n",
    " - plot() - C50 package\n",
    " - predict() - C50 package\n",
    " - confusionMatrix() - caret package\n",
    " - prediction() - ROCR package\n",
    " - performance() - ROCR package\n",
    " - plot() - ROCR package"
   ]
  },
  {
   "cell_type": "code",
   "execution_count": 2,
   "metadata": {
    "collapsed": false
   },
   "outputs": [],
   "source": [
    "library(C50)\n",
    "library(caret)\n",
    "library(ROCR)"
   ]
  },
  {
   "cell_type": "code",
   "execution_count": 3,
   "metadata": {
    "collapsed": true
   },
   "outputs": [],
   "source": [
    "cb <- read.delim(\"Hshopping.txt\",stringsAsFactors = F)\n",
    "cb$반품여부 <- as.factor(cb$반품여부)"
   ]
  },
  {
   "cell_type": "code",
   "execution_count": 14,
   "metadata": {
    "collapsed": false
   },
   "outputs": [],
   "source": [
    "colnames(cb) <- c(\"ID\",\"SEX\",\"AGE\",\"AMT\",\"APP\",\"REFUND\")"
   ]
  },
  {
   "cell_type": "code",
   "execution_count": 15,
   "metadata": {
    "collapsed": false
   },
   "outputs": [
    {
     "data": {
      "text/html": [
       "<table>\n",
       "<thead><tr><th></th><th scope=col>ID</th><th scope=col>SEX</th><th scope=col>AGE</th><th scope=col>AMT</th><th scope=col>APP</th><th scope=col>REFUND</th></tr></thead>\n",
       "<tbody>\n",
       "\t<tr><th scope=row>1</th><td>1 </td><td>1 </td><td>33</td><td>2 </td><td>2 </td><td>0 </td></tr>\n",
       "\t<tr><th scope=row>2</th><td>2 </td><td>2 </td><td>21</td><td>3 </td><td>2 </td><td>1 </td></tr>\n",
       "\t<tr><th scope=row>3</th><td>3 </td><td>1 </td><td>45</td><td>1 </td><td>1 </td><td>0 </td></tr>\n",
       "\t<tr><th scope=row>4</th><td>4 </td><td>1 </td><td>50</td><td>2 </td><td>1 </td><td>0 </td></tr>\n",
       "\t<tr><th scope=row>5</th><td>5 </td><td>1 </td><td>21</td><td>3 </td><td>1 </td><td>1 </td></tr>\n",
       "\t<tr><th scope=row>6</th><td>6 </td><td>1 </td><td>22</td><td>3 </td><td>1 </td><td>1 </td></tr>\n",
       "</tbody>\n",
       "</table>\n"
      ],
      "text/latex": [
       "\\begin{tabular}{r|llllll}\n",
       "  & ID & SEX & AGE & AMT & APP & REFUND\\\\\n",
       "\\hline\n",
       "\t1 & 1  & 1  & 33 & 2  & 2  & 0 \\\\\n",
       "\t2 & 2  & 2  & 21 & 3  & 2  & 1 \\\\\n",
       "\t3 & 3  & 1  & 45 & 1  & 1  & 0 \\\\\n",
       "\t4 & 4  & 1  & 50 & 2  & 1  & 0 \\\\\n",
       "\t5 & 5  & 1  & 21 & 3  & 1  & 1 \\\\\n",
       "\t6 & 6  & 1  & 22 & 3  & 1  & 1 \\\\\n",
       "\\end{tabular}\n"
      ],
      "text/plain": [
       "  ID SEX AGE AMT APP REFUND\n",
       "1  1   1  33   2   2      0\n",
       "2  2   2  21   3   2      1\n",
       "3  3   1  45   1   1      0\n",
       "4  4   1  50   2   1      0\n",
       "5  5   1  21   3   1      1\n",
       "6  6   1  22   3   1      1"
      ]
     },
     "metadata": {},
     "output_type": "display_data"
    }
   ],
   "source": [
    "head(cb)"
   ]
  },
  {
   "cell_type": "markdown",
   "metadata": {
    "collapsed": true
   },
   "source": [
    "### train / test data split"
   ]
  },
  {
   "cell_type": "code",
   "execution_count": 17,
   "metadata": {
    "collapsed": false
   },
   "outputs": [
    {
     "data": {
      "text/html": [
       "<table>\n",
       "<thead><tr><th scope=col>Resample1</th></tr></thead>\n",
       "<tbody>\n",
       "\t<tr><td>4</td></tr>\n",
       "\t<tr><td>6</td></tr>\n",
       "\t<tr><td>7</td></tr>\n",
       "\t<tr><td>9</td></tr>\n",
       "\t<tr><td>10</td></tr>\n",
       "\t<tr><td>11</td></tr>\n",
       "</tbody>\n",
       "</table>\n"
      ],
      "text/latex": [
       "\\begin{tabular}{l}\n",
       " Resample1\\\\\n",
       "\\hline\n",
       "\t 4\\\\\n",
       "\t 6\\\\\n",
       "\t 7\\\\\n",
       "\t 9\\\\\n",
       "\t 10\\\\\n",
       "\t 11\\\\\n",
       "\\end{tabular}\n"
      ],
      "text/markdown": [
       "1. 4\n",
       "2. 6\n",
       "3. 7\n",
       "4. 9\n",
       "5. 10\n",
       "6. 11\n",
       "\n",
       "\n"
      ],
      "text/plain": [
       "     Resample1\n",
       "[1,]         4\n",
       "[2,]         6\n",
       "[3,]         7\n",
       "[4,]         9\n",
       "[5,]        10\n",
       "[6,]        11"
      ]
     },
     "metadata": {},
     "output_type": "display_data"
    }
   ],
   "source": [
    "set.seed(1) # seed를 고정해야 동일한 샘플링을 가질 수 있다. \n",
    "inTrain <- createDataPartition(y=cb$REFUND,p=0.6,list=F)\n",
    "head(inTrain)"
   ]
  },
  {
   "cell_type": "code",
   "execution_count": 18,
   "metadata": {
    "collapsed": true
   },
   "outputs": [],
   "source": [
    "cb.train <- cb[inTrain,]\n",
    "cb.test <- cb[-inTrain,]"
   ]
  },
  {
   "cell_type": "code",
   "execution_count": 19,
   "metadata": {
    "collapsed": false
   },
   "outputs": [
    {
     "data": {
      "text/html": [
       "<ol class=list-inline>\n",
       "\t<li>301</li>\n",
       "\t<li>6</li>\n",
       "</ol>\n"
      ],
      "text/latex": [
       "\\begin{enumerate*}\n",
       "\\item 301\n",
       "\\item 6\n",
       "\\end{enumerate*}\n"
      ],
      "text/markdown": [
       "1. 301\n",
       "2. 6\n",
       "\n",
       "\n"
      ],
      "text/plain": [
       "[1] 301   6"
      ]
     },
     "metadata": {},
     "output_type": "display_data"
    },
    {
     "data": {
      "text/html": [
       "<ol class=list-inline>\n",
       "\t<li>199</li>\n",
       "\t<li>6</li>\n",
       "</ol>\n"
      ],
      "text/latex": [
       "\\begin{enumerate*}\n",
       "\\item 199\n",
       "\\item 6\n",
       "\\end{enumerate*}\n"
      ],
      "text/markdown": [
       "1. 199\n",
       "2. 6\n",
       "\n",
       "\n"
      ],
      "text/plain": [
       "[1] 199   6"
      ]
     },
     "metadata": {},
     "output_type": "display_data"
    }
   ],
   "source": [
    "dim(cb.train); dim(cb.test)"
   ]
  },
  {
   "cell_type": "markdown",
   "metadata": {},
   "source": [
    "### C5.0의 함수 파라미터를 생성하는 함수 C5.0Control\n",
    "Winnowing\n",
    "- 입력 필드에 대해서 사전에 필드가 유용한지 측정한 다음 유용하지 않는 경우 배제하고 모델링\n",
    " - 입력필드가 많을 경우 유용\n",
    "- 사용법: C5.0Control함수에서 winnow 파라미터를 True로 지정\n",
    "\n",
    "Pruning severity\n",
    "- 지역적 가지치기의 강도를 조정\n",
    " - 이 값이 작으면 작을수록 가지치기 강도가 강해져서, Over-fitting의 가능성이 적어지지만,대신 가지가 적게 되어 정확도가 떨어질 수 있음\n",
    "- 사용법: C5.0Control함수에서 CF 파라미터를 0에서 1사이의 값으로 설정(default는 0.25)\n",
    "\n",
    "Global Pruning\n",
    "- 전역적 가지치기 여부를 결정\n",
    " - 전역적 가지치기는 전체적으로 만들어진 Tree 구조에서 가지치기를 수행하는데 강도가 약한 sub-tree자체를 삭제\n",
    "- 사용법: C5.0Control함수에서 noGlobalPruning 파라미터를 설정(default는 FALSE)\n"
   ]
  },
  {
   "cell_type": "code",
   "execution_count": 20,
   "metadata": {
    "collapsed": true
   },
   "outputs": [],
   "source": [
    "c5_options <- C5.0Control(winnow = FALSE, noGlobalPruning = FALSE)\n",
    "c5_model <- C5.0(REFUND ~ SEX+AGE+AMT+APP, data=cb.train,control=c5_options, rules=FALSE)"
   ]
  },
  {
   "cell_type": "code",
   "execution_count": 21,
   "metadata": {
    "collapsed": false
   },
   "outputs": [
    {
     "data": {
      "text/plain": [
       "\n",
       "Call:\n",
       "C5.0.formula(formula = REFUND ~ SEX + AGE + AMT + APP, data = cb.train,\n",
       " control = c5_options, rules = FALSE)\n",
       "\n",
       "\n",
       "C5.0 [Release 2.07 GPL Edition]  \tSat Oct 22 22:51:56 2016\n",
       "-------------------------------\n",
       "\n",
       "Class specified by attribute `outcome'\n",
       "\n",
       "Read 301 cases (5 attributes) from undefined.data\n",
       "\n",
       "Decision tree:\n",
       "\n",
       "AGE <= 29: 1 (77/11)\n",
       "AGE > 29:\n",
       ":...APP <= 1: 0 (156/4)\n",
       "    APP > 1:\n",
       "    :...SEX <= 1: 0 (19/2)\n",
       "        SEX > 1:\n",
       "        :...AGE <= 36: 1 (19/2)\n",
       "            AGE > 36: 0 (30/5)\n",
       "\n",
       "\n",
       "Evaluation on training data (301 cases):\n",
       "\n",
       "\t    Decision Tree   \n",
       "\t  ----------------  \n",
       "\t  Size      Errors  \n",
       "\n",
       "\t     5   24( 8.0%)   <<\n",
       "\n",
       "\n",
       "\t   (a)   (b)    <-classified as\n",
       "\t  ----  ----\n",
       "\t   194    13    (a): class 0\n",
       "\t    11    83    (b): class 1\n",
       "\n",
       "\n",
       "\tAttribute usage:\n",
       "\n",
       "\t100.00%\tAGE\n",
       "\t 74.42%\tAPP\n",
       "\t 22.59%\tSEX\n",
       "\n",
       "\n",
       "Time: 0.0 secs\n"
      ]
     },
     "metadata": {},
     "output_type": "display_data"
    }
   ],
   "source": [
    "summary(c5_model)"
   ]
  },
  {
   "cell_type": "markdown",
   "metadata": {},
   "source": [
    "- size : 트리의 깊이 \n",
    "- 8.0%가 틀리고 92%를 맞췄다. \n",
    "- 대각선 194, 83이 맞춘 것이다. "
   ]
  },
  {
   "cell_type": "code",
   "execution_count": 26,
   "metadata": {
    "collapsed": false
   },
   "outputs": [
    {
     "data": {
      "image/png": "[encoded data removed]",
      "text/plain": [
       "plot without title"
      ]
     },
     "metadata": {},
     "output_type": "display_data"
    }
   ],
   "source": [
    "options(repr.plot.height=5)\n",
    "plot(c5_model)"
   ]
  },
  {
   "cell_type": "markdown",
   "metadata": {},
   "source": [
    "<img src=\"./photo/2.PNG\">\n",
    "<img src=\"./photo/3.PNG\">"
   ]
  },
  {
   "cell_type": "code",
   "execution_count": 27,
   "metadata": {
    "collapsed": false
   },
   "outputs": [
    {
     "data": {
      "text/plain": [
       "\n",
       "Call:\n",
       "C5.0.formula(formula = REFUND ~ SEX + AGE + AMT + APP, data = cb.train,\n",
       " control = c5_options, rules = T)\n",
       "\n",
       "\n",
       "C5.0 [Release 2.07 GPL Edition]  \tSat Oct 22 22:55:51 2016\n",
       "-------------------------------\n",
       "\n",
       "Class specified by attribute `outcome'\n",
       "\n",
       "Read 301 cases (5 attributes) from undefined.data\n",
       "\n",
       "Rules:\n",
       "\n",
       "Rule 1: (156/4, lift 1.4)\n",
       "\tAGE > 29\n",
       "\tAPP <= 1\n",
       "\t->  class 0  [0.968]\n",
       "\n",
       "Rule 2: (132/4, lift 1.4)\n",
       "\tSEX <= 1\n",
       "\tAGE > 29\n",
       "\t->  class 0  [0.963]\n",
       "\n",
       "Rule 3: (165/7, lift 1.4)\n",
       "\tAGE > 36\n",
       "\t->  class 0  [0.952]\n",
       "\n",
       "Rule 4: (71/6, lift 2.9)\n",
       "\tSEX > 1\n",
       "\tAGE <= 36\n",
       "\tAPP > 1\n",
       "\t->  class 1  [0.904]\n",
       "\n",
       "Rule 5: (77/11, lift 2.7)\n",
       "\tAGE <= 29\n",
       "\t->  class 1  [0.848]\n",
       "\n",
       "Default class: 0\n",
       "\n",
       "\n",
       "Evaluation on training data (301 cases):\n",
       "\n",
       "\t        Rules     \n",
       "\t  ----------------\n",
       "\t    No      Errors\n",
       "\n",
       "\t     5   24( 8.0%)   <<\n",
       "\n",
       "\n",
       "\t   (a)   (b)    <-classified as\n",
       "\t  ----  ----\n",
       "\t   194    13    (a): class 0\n",
       "\t    11    83    (b): class 1\n",
       "\n",
       "\n",
       "\tAttribute usage:\n",
       "\n",
       "\t100.00%\tAGE\n",
       "\t 75.42%\tAPP\n",
       "\t 67.44%\tSEX\n",
       "\n",
       "\n",
       "Time: 0.0 secs\n"
      ]
     },
     "metadata": {},
     "output_type": "display_data"
    }
   ],
   "source": [
    "c5_model_2 <- C5.0(REFUND ~ SEX+AGE+AMT+APP, data=cb.train,control=c5_options, rules=T)\n",
    "summary(c5_model_2)"
   ]
  },
  {
   "cell_type": "code",
   "execution_count": 29,
   "metadata": {
    "collapsed": false,
    "scrolled": false
   },
   "outputs": [
    {
     "data": {
      "text/plain": [
       "\n",
       "Call:\n",
       "C5.0.formula(formula = REFUND ~ SEX + AGE + AMT + APP, data = cb.train,\n",
       " control = c5_options, rules = F, trials = 3)\n",
       "\n",
       "\n",
       "C5.0 [Release 2.07 GPL Edition]  \tSat Oct 22 22:56:36 2016\n",
       "-------------------------------\n",
       "\n",
       "Class specified by attribute `outcome'\n",
       "\n",
       "Read 301 cases (5 attributes) from undefined.data\n",
       "\n",
       "-----  Trial 0:  -----\n",
       "\n",
       "Decision tree:\n",
       "\n",
       "AGE <= 29: 1 (77/11)\n",
       "AGE > 29:\n",
       ":...APP <= 1: 0 (156/4)\n",
       "    APP > 1:\n",
       "    :...SEX <= 1: 0 (19/2)\n",
       "        SEX > 1:\n",
       "        :...AGE <= 36: 1 (19/2)\n",
       "            AGE > 36: 0 (30/5)\n",
       "\n",
       "-----  Trial 1:  -----\n",
       "\n",
       "Decision tree:\n",
       "\n",
       "AMT <= 1: 0 (139.1/13.4)\n",
       "AMT > 1:\n",
       ":...AGE <= 46: 1 (139/52)\n",
       "    AGE > 46: 0 (22.9/3.6)\n",
       "\n",
       "-----  Trial 2:  -----\n",
       "\n",
       "Decision tree:\n",
       "\n",
       "AGE <= 28: 1 (55.9/6.3)\n",
       "AGE > 28: 0 (233.1/47.3)\n",
       "\n",
       "\n",
       "Evaluation on training data (301 cases):\n",
       "\n",
       "Trial\t    Decision Tree   \n",
       "-----\t  ----------------  \n",
       "\t  Size      Errors  \n",
       "\n",
       "   0\t     5   24( 8.0%)\n",
       "   1\t     3   45(15.0%)\n",
       "   2\t     2   41(13.6%)\n",
       "boost\t         26( 8.6%)   <<\n",
       "\n",
       "\n",
       "\t   (a)   (b)    <-classified as\n",
       "\t  ----  ----\n",
       "\t   196    11    (a): class 0\n",
       "\t    15    79    (b): class 1\n",
       "\n",
       "\n",
       "\tAttribute usage:\n",
       "\n",
       "\t100.00%\tAGE\n",
       "\t100.00%\tAMT\n",
       "\t 74.42%\tAPP\n",
       "\t 22.59%\tSEX\n",
       "\n",
       "\n",
       "Time: 0.0 secs\n"
      ]
     },
     "metadata": {},
     "output_type": "display_data"
    }
   ],
   "source": [
    "c5_model_3 <- C5.0(REFUND ~ SEX+AGE+AMT+APP, data=cb.train,control=c5_options, rules=F, trials=3)\n",
    "summary(c5_model_3)"
   ]
  },
  {
   "cell_type": "markdown",
   "metadata": {},
   "source": [
    "### C5.0 Options\n",
    " - CF=0.7 가지치기 정도를 낮춘다. Strict 숫자가 높을 수록 정도를 낮춘다. \n",
    " - Strict 할수록 해당 데이터에 대해서 잘 fitting되지만 다른 데이터에는 좋지 않을 수도있다. "
   ]
  },
  {
   "cell_type": "code",
   "execution_count": 30,
   "metadata": {
    "collapsed": true
   },
   "outputs": [],
   "source": [
    "c5_options_2 <- C5.0Control(winnow = F, noGlobalPruning = F, CF=0.7)\n",
    "c5_model_4 <- C5.0(REFUND ~ SEX+AGE+AMT+APP, data=cb.train,control=c5_options_2, rules=FALSE)"
   ]
  },
  {
   "cell_type": "code",
   "execution_count": 31,
   "metadata": {
    "collapsed": false
   },
   "outputs": [
    {
     "data": {
      "text/plain": [
       "\n",
       "Call:\n",
       "C5.0.formula(formula = REFUND ~ SEX + AGE + AMT + APP, data = cb.train,\n",
       " control = c5_options_2, rules = FALSE)\n",
       "\n",
       "\n",
       "C5.0 [Release 2.07 GPL Edition]  \tSat Oct 22 22:57:37 2016\n",
       "-------------------------------\n",
       "\n",
       "Class specified by attribute `outcome'\n",
       "\n",
       "Read 301 cases (5 attributes) from undefined.data\n",
       "\n",
       "Decision tree:\n",
       "\n",
       "AGE <= 29: 1 (77/11)\n",
       "AGE > 29:\n",
       ":...APP <= 1: 0 (156/4)\n",
       "    APP > 1:\n",
       "    :...SEX <= 1: 0 (19/2)\n",
       "        SEX > 1:\n",
       "        :...AGE <= 36: 1 (19/2)\n",
       "            AGE > 36:\n",
       "            :...AMT <= 2: 0 (26/2)\n",
       "                AMT > 2: 1 (4/1)\n",
       "\n",
       "\n",
       "Evaluation on training data (301 cases):\n",
       "\n",
       "\t    Decision Tree   \n",
       "\t  ----------------  \n",
       "\t  Size      Errors  \n",
       "\n",
       "\t     6   22( 7.3%)   <<\n",
       "\n",
       "\n",
       "\t   (a)   (b)    <-classified as\n",
       "\t  ----  ----\n",
       "\t   193    14    (a): class 0\n",
       "\t     8    86    (b): class 1\n",
       "\n",
       "\n",
       "\tAttribute usage:\n",
       "\n",
       "\t100.00%\tAGE\n",
       "\t 74.42%\tAPP\n",
       "\t 22.59%\tSEX\n",
       "\t  9.97%\tAMT\n",
       "\n",
       "\n",
       "Time: 0.0 secs\n"
      ]
     },
     "metadata": {},
     "output_type": "display_data"
    }
   ],
   "source": [
    "summary(c5_model_4)"
   ]
  },
  {
   "cell_type": "markdown",
   "metadata": {},
   "source": [
    "### Global Pruning 전역적 가지치기.\n",
    " - 지역적 가지치기는 부모와 자식간의 가지치기 ( 개별 각각으로)\n",
    " - 전체 나무 모양을 보고 트리의 깊이가 있어도 해당 부분을 칠수도있다. "
   ]
  },
  {
   "cell_type": "markdown",
   "metadata": {
    "collapsed": true
   },
   "source": [
    "<img src=\"./photo/4.PNG\">\n",
    "<img src=\"./photo/5.PNG\">\n",
    "<img src=\"./photo/6.PNG\">\n",
    "<img src=\"./photo/7.PNG\">\n",
    "<img src=\"./photo/8.PNG\">\n",
    "<img src=\"./photo/9.PNG\">"
   ]
  },
  {
   "cell_type": "markdown",
   "metadata": {},
   "source": [
    "## 반품고객 예측 및 평가 "
   ]
  },
  {
   "cell_type": "code",
   "execution_count": 32,
   "metadata": {
    "collapsed": true
   },
   "outputs": [],
   "source": [
    "cb.test$c5_pred <- predict(c5_model,cb.test,type=\"class\")\n",
    "cb.test$c5_pred_prob <- round(predict(c5_model,cb.test,type=\"prob\"),2)"
   ]
  },
  {
   "cell_type": "markdown",
   "metadata": {},
   "source": [
    "## 정확도 확인"
   ]
  },
  {
   "cell_type": "code",
   "execution_count": 33,
   "metadata": {
    "collapsed": false
   },
   "outputs": [
    {
     "data": {
      "text/plain": [
       "Confusion Matrix and Statistics\n",
       "\n",
       "          Reference\n",
       "Prediction   0   1\n",
       "         0 124  13\n",
       "         1  13  49\n",
       "                                          \n",
       "               Accuracy : 0.8693          \n",
       "                 95% CI : (0.8144, 0.9128)\n",
       "    No Information Rate : 0.6884          \n",
       "    P-Value [Acc > NIR] : 2.375e-09       \n",
       "                                          \n",
       "                  Kappa : 0.6954          \n",
       " Mcnemar's Test P-Value : 1               \n",
       "                                          \n",
       "            Sensitivity : 0.9051          \n",
       "            Specificity : 0.7903          \n",
       "         Pos Pred Value : 0.9051          \n",
       "         Neg Pred Value : 0.7903          \n",
       "             Prevalence : 0.6884          \n",
       "         Detection Rate : 0.6231          \n",
       "   Detection Prevalence : 0.6884          \n",
       "      Balanced Accuracy : 0.8477          \n",
       "                                          \n",
       "       'Positive' Class : 0               \n",
       "                                          "
      ]
     },
     "metadata": {},
     "output_type": "display_data"
    }
   ],
   "source": [
    "confusionMatrix(cb.test$c5_pred, cb.test$REFUND)"
   ]
  },
  {
   "cell_type": "markdown",
   "metadata": {},
   "source": [
    "## 시각적 확인"
   ]
  },
  {
   "cell_type": "code",
   "execution_count": 35,
   "metadata": {
    "collapsed": false
   },
   "outputs": [
    {
     "data": {
      "image/png": "[encoded data removed]",
      "text/plain": [
       "plot without title"
      ]
     },
     "metadata": {},
     "output_type": "display_data"
    }
   ],
   "source": [
    "c5_pred <- prediction(cb.test$c5_pred_prob[,2], cb.test$REFUND)\n",
    "c5_model.perf1 <- performance(c5_pred,\"tpr\",\"fpr\") # Roc curve\n",
    "c5_model.perf2 <- performance(c5_pred,\"lift\",\"rpp\") # Lift chart\n",
    "par(mfrow=c(1,2))\n",
    "plot(c5_model.perf1,colorize=T)\n",
    "plot(c5_model.perf2,colorize=T)"
   ]
  },
  {
   "cell_type": "markdown",
   "metadata": {},
   "source": [
    " - 커브 아래의 면적  면적이 높을 수록 좋은 모형이 된다. roccurve에서 \n",
    " - lift chart는 급격하게 떨어지면 좋은 모형이다. "
   ]
  },
  {
   "cell_type": "code",
   "execution_count": 36,
   "metadata": {
    "collapsed": false
   },
   "outputs": [
    {
     "data": {
      "text/html": [
       "0.906404520838239"
      ],
      "text/latex": [
       "0.906404520838239"
      ],
      "text/markdown": [
       "0.906404520838239"
      ],
      "text/plain": [
       "[1] 0.9064045"
      ]
     },
     "metadata": {},
     "output_type": "display_data"
    }
   ],
   "source": [
    "performance(c5_pred,\"auc\")@y.values[[1]] "
   ]
  },
  {
   "cell_type": "markdown",
   "metadata": {},
   "source": [
    "## 괜찮은 그래프 그리기 "
   ]
  },
  {
   "cell_type": "code",
   "execution_count": 38,
   "metadata": {
    "collapsed": false
   },
   "outputs": [],
   "source": [
    "library(Epi)"
   ]
  },
  {
   "cell_type": "code",
   "execution_count": 40,
   "metadata": {
    "collapsed": false
   },
   "outputs": [
    {
     "data": {
      "image/png": "[encoded data removed]",
      "text/plain": [
       "plot without title"
      ]
     },
     "metadata": {},
     "output_type": "display_data"
    }
   ],
   "source": [
    "ROC(form=cb.test$REFUND~c5_pred_prob[,2], data=cb.test, plot=\"ROC\")"
   ]
  }
 ],
 "metadata": {
  "kernelspec": {
   "display_name": "R 3.3",
   "language": "R",
   "name": "ir33"
  },
  "language_info": {
   "codemirror_mode": "r",
   "file_extension": ".r",
   "mimetype": "text/x-r-source",
   "name": "R",
   "pygments_lexer": "r",
   "version": "3.3.1"
  }
 },
 "nbformat": 4,
 "nbformat_minor": 0
}
